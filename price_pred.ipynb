{
 "cells": [
  {
   "cell_type": "code",
   "execution_count": 1,
   "metadata": {},
   "outputs": [],
   "source": [
    "import pandas as pd\n",
    "import numpy as np\n",
    "from matplotlib import pyplot as plt\n",
    "%matplotlib inline\n",
    "import matplotlib\n",
    "matplotlib.rcParams[\"figure.figsize\"]=(20,10)"
   ]
  },
  {
   "cell_type": "code",
   "execution_count": 2,
   "metadata": {},
   "outputs": [
    {
     "data": {
      "text/html": [
       "<div>\n",
       "<style scoped>\n",
       "    .dataframe tbody tr th:only-of-type {\n",
       "        vertical-align: middle;\n",
       "    }\n",
       "\n",
       "    .dataframe tbody tr th {\n",
       "        vertical-align: top;\n",
       "    }\n",
       "\n",
       "    .dataframe thead th {\n",
       "        text-align: right;\n",
       "    }\n",
       "</style>\n",
       "<table border=\"1\" class=\"dataframe\">\n",
       "  <thead>\n",
       "    <tr style=\"text-align: right;\">\n",
       "      <th></th>\n",
       "      <th>latitude</th>\n",
       "      <th>longitude</th>\n",
       "      <th>streetAddress</th>\n",
       "      <th>suburb</th>\n",
       "      <th>postcode</th>\n",
       "      <th>region</th>\n",
       "      <th>bedrooms</th>\n",
       "      <th>bathrooms</th>\n",
       "      <th>parkingSpaces</th>\n",
       "      <th>propertyType</th>\n",
       "      <th>price</th>\n",
       "      <th>listingId</th>\n",
       "      <th>title</th>\n",
       "      <th>dateSold</th>\n",
       "      <th>modifiedDate</th>\n",
       "    </tr>\n",
       "  </thead>\n",
       "  <tbody>\n",
       "    <tr>\n",
       "      <td>0</td>\n",
       "      <td>-38.276067</td>\n",
       "      <td>144.485488</td>\n",
       "      <td>6 Corymbia Circuit</td>\n",
       "      <td>Barwon Heads</td>\n",
       "      <td>3227</td>\n",
       "      <td>bellarine_peninsula</td>\n",
       "      <td>3</td>\n",
       "      <td>2</td>\n",
       "      <td>2</td>\n",
       "      <td>house</td>\n",
       "      <td>$1,255,000</td>\n",
       "      <td>129714950</td>\n",
       "      <td>Luxurious Coastal Lifestyle Awaits</td>\n",
       "      <td>06-11-2018</td>\n",
       "      <td>2018-11-06T02:00:19Z</td>\n",
       "    </tr>\n",
       "    <tr>\n",
       "      <td>1</td>\n",
       "      <td>-38.238159</td>\n",
       "      <td>144.545576</td>\n",
       "      <td>9 La Bella Street</td>\n",
       "      <td>Ocean Grove</td>\n",
       "      <td>3226</td>\n",
       "      <td>bellarine_peninsula</td>\n",
       "      <td>4</td>\n",
       "      <td>2</td>\n",
       "      <td>2</td>\n",
       "      <td>house</td>\n",
       "      <td>$725,000</td>\n",
       "      <td>129219294</td>\n",
       "      <td>Laid Back Family Living In An Idyllic Location</td>\n",
       "      <td>06-11-2018</td>\n",
       "      <td>2018-11-06T04:01:41Z</td>\n",
       "    </tr>\n",
       "    <tr>\n",
       "      <td>2</td>\n",
       "      <td>-37.638387</td>\n",
       "      <td>144.922701</td>\n",
       "      <td>26 Greensted Grove</td>\n",
       "      <td>Roxburgh Park</td>\n",
       "      <td>3064</td>\n",
       "      <td>melbourne___northern_region</td>\n",
       "      <td>4</td>\n",
       "      <td>2</td>\n",
       "      <td>2</td>\n",
       "      <td>house</td>\n",
       "      <td>$670,000</td>\n",
       "      <td>129517974</td>\n",
       "      <td>Oversized &amp; park-facing</td>\n",
       "      <td>06-11-2018</td>\n",
       "      <td>2018-11-06T02:37:57Z</td>\n",
       "    </tr>\n",
       "    <tr>\n",
       "      <td>3</td>\n",
       "      <td>-38.121844</td>\n",
       "      <td>144.332476</td>\n",
       "      <td>80 Calvert Street</td>\n",
       "      <td>Hamlyn Heights</td>\n",
       "      <td>3215</td>\n",
       "      <td>NaN</td>\n",
       "      <td>3</td>\n",
       "      <td>2</td>\n",
       "      <td>1</td>\n",
       "      <td>house</td>\n",
       "      <td>$600,000</td>\n",
       "      <td>129640018</td>\n",
       "      <td>Cherished Family Home In Leafy Hamlyn Heights</td>\n",
       "      <td>06-11-2018</td>\n",
       "      <td>2018-11-06T02:00:19Z</td>\n",
       "    </tr>\n",
       "    <tr>\n",
       "      <td>4</td>\n",
       "      <td>-38.129071</td>\n",
       "      <td>144.323640</td>\n",
       "      <td>295 Church Street</td>\n",
       "      <td>Herne Hill</td>\n",
       "      <td>3218</td>\n",
       "      <td>bellarine_peninsula</td>\n",
       "      <td>3</td>\n",
       "      <td>1</td>\n",
       "      <td>2</td>\n",
       "      <td>house</td>\n",
       "      <td>$520,000</td>\n",
       "      <td>129459426</td>\n",
       "      <td>Potential Plus</td>\n",
       "      <td>06-11-2018</td>\n",
       "      <td>2018-11-06T02:00:17Z</td>\n",
       "    </tr>\n",
       "    <tr>\n",
       "      <td>5</td>\n",
       "      <td>-38.661799</td>\n",
       "      <td>143.858154</td>\n",
       "      <td>42 Ridge Drive</td>\n",
       "      <td>Kennett River</td>\n",
       "      <td>3234</td>\n",
       "      <td>south_western_region</td>\n",
       "      <td>3</td>\n",
       "      <td>2</td>\n",
       "      <td>3</td>\n",
       "      <td>house</td>\n",
       "      <td>$515,000</td>\n",
       "      <td>129671886</td>\n",
       "      <td>RELAXED COASTAL LIFESTYLE</td>\n",
       "      <td>06-11-2018</td>\n",
       "      <td>2018-11-06T02:00:19Z</td>\n",
       "    </tr>\n",
       "    <tr>\n",
       "      <td>6</td>\n",
       "      <td>-38.032635</td>\n",
       "      <td>144.383849</td>\n",
       "      <td>16 Yoorok Drive</td>\n",
       "      <td>Lara</td>\n",
       "      <td>3212</td>\n",
       "      <td>south_west_melbourne</td>\n",
       "      <td>3</td>\n",
       "      <td>1</td>\n",
       "      <td>1</td>\n",
       "      <td>house</td>\n",
       "      <td>$460,000</td>\n",
       "      <td>129206754</td>\n",
       "      <td>PERFECT INVESTMENT, PERFECT HOME!</td>\n",
       "      <td>06-11-2018</td>\n",
       "      <td>2018-11-06T06:12:30Z</td>\n",
       "    </tr>\n",
       "  </tbody>\n",
       "</table>\n",
       "</div>"
      ],
      "text/plain": [
       "    latitude   longitude       streetAddress          suburb  postcode  \\\n",
       "0 -38.276067  144.485488  6 Corymbia Circuit    Barwon Heads      3227   \n",
       "1 -38.238159  144.545576   9 La Bella Street     Ocean Grove      3226   \n",
       "2 -37.638387  144.922701  26 Greensted Grove   Roxburgh Park      3064   \n",
       "3 -38.121844  144.332476   80 Calvert Street  Hamlyn Heights      3215   \n",
       "4 -38.129071  144.323640   295 Church Street      Herne Hill      3218   \n",
       "5 -38.661799  143.858154      42 Ridge Drive   Kennett River      3234   \n",
       "6 -38.032635  144.383849     16 Yoorok Drive            Lara      3212   \n",
       "\n",
       "                        region  bedrooms  bathrooms  parkingSpaces  \\\n",
       "0          bellarine_peninsula         3          2              2   \n",
       "1          bellarine_peninsula         4          2              2   \n",
       "2  melbourne___northern_region         4          2              2   \n",
       "3                          NaN         3          2              1   \n",
       "4          bellarine_peninsula         3          1              2   \n",
       "5         south_western_region         3          2              3   \n",
       "6         south_west_melbourne         3          1              1   \n",
       "\n",
       "  propertyType       price  listingId  \\\n",
       "0        house  $1,255,000  129714950   \n",
       "1        house    $725,000  129219294   \n",
       "2        house    $670,000  129517974   \n",
       "3        house    $600,000  129640018   \n",
       "4        house    $520,000  129459426   \n",
       "5        house    $515,000  129671886   \n",
       "6        house    $460,000  129206754   \n",
       "\n",
       "                                            title    dateSold  \\\n",
       "0              Luxurious Coastal Lifestyle Awaits  06-11-2018   \n",
       "1  Laid Back Family Living In An Idyllic Location  06-11-2018   \n",
       "2                         Oversized & park-facing  06-11-2018   \n",
       "3  Cherished Family Home In Leafy Hamlyn Heights   06-11-2018   \n",
       "4                                  Potential Plus  06-11-2018   \n",
       "5                       RELAXED COASTAL LIFESTYLE  06-11-2018   \n",
       "6               PERFECT INVESTMENT, PERFECT HOME!  06-11-2018   \n",
       "\n",
       "           modifiedDate  \n",
       "0  2018-11-06T02:00:19Z  \n",
       "1  2018-11-06T04:01:41Z  \n",
       "2  2018-11-06T02:37:57Z  \n",
       "3  2018-11-06T02:00:19Z  \n",
       "4  2018-11-06T02:00:17Z  \n",
       "5  2018-11-06T02:00:19Z  \n",
       "6  2018-11-06T06:12:30Z  "
      ]
     },
     "execution_count": 2,
     "metadata": {},
     "output_type": "execute_result"
    }
   ],
   "source": [
    "df1=pd.read_csv(\"_sold.csv\")\n",
    "df1.head(7)"
   ]
  },
  {
   "cell_type": "code",
   "execution_count": 3,
   "metadata": {},
   "outputs": [
    {
     "data": {
      "text/plain": [
       "(105120, 15)"
      ]
     },
     "execution_count": 3,
     "metadata": {},
     "output_type": "execute_result"
    }
   ],
   "source": [
    "df1.shape"
   ]
  },
  {
   "cell_type": "code",
   "execution_count": 4,
   "metadata": {},
   "outputs": [
    {
     "data": {
      "text/plain": [
       "propertyType\n",
       "acreage/semi-rural        8\n",
       "alpine                    1\n",
       "apartment             20927\n",
       "farmlet                   1\n",
       "house                 63195\n",
       "lifestyle                 2\n",
       "other                     1\n",
       "residential land         10\n",
       "townhouse              5273\n",
       "unit                  15697\n",
       "villa                     5\n",
       "Name: propertyType, dtype: int64"
      ]
     },
     "execution_count": 4,
     "metadata": {},
     "output_type": "execute_result"
    }
   ],
   "source": [
    "df1.groupby('propertyType')['propertyType'].agg('count')"
   ]
  },
  {
   "cell_type": "code",
   "execution_count": 5,
   "metadata": {},
   "outputs": [],
   "source": [
    "\n",
    "df1=df1[df1.propertyType!='acreage/semi-rural']\n",
    "df1=df1[df1.propertyType!='alpine']\n",
    "df1=df1[df1.propertyType!='farmlet']\n",
    "df1=df1[df1.propertyType!='lifestyle']\n",
    "df1=df1[df1.propertyType!='other']\n",
    "df1=df1[df1.propertyType!='villa']\n",
    "df1=df1[df1.propertyType!='residential land']\n"
   ]
  },
  {
   "cell_type": "code",
   "execution_count": 6,
   "metadata": {},
   "outputs": [
    {
     "data": {
      "text/plain": [
       "propertyType\n",
       "apartment    20927\n",
       "house        63195\n",
       "townhouse     5273\n",
       "unit         15697\n",
       "Name: propertyType, dtype: int64"
      ]
     },
     "execution_count": 6,
     "metadata": {},
     "output_type": "execute_result"
    }
   ],
   "source": [
    "df1.groupby('propertyType')['propertyType'].agg('count')"
   ]
  },
  {
   "cell_type": "code",
   "execution_count": 7,
   "metadata": {},
   "outputs": [
    {
     "data": {
      "text/plain": [
       "suburb\n",
       "Abbotsford      4\n",
       "Aireys Inlet    1\n",
       "Airport West    2\n",
       "Albert Park     1\n",
       "Albion          1\n",
       "               ..\n",
       "Wollert         3\n",
       "Woodend         1\n",
       "Yallambie       2\n",
       "Yarra Glen      1\n",
       "Yarraville      2\n",
       "Name: suburb, Length: 360, dtype: int64"
      ]
     },
     "execution_count": 7,
     "metadata": {},
     "output_type": "execute_result"
    }
   ],
   "source": [
    "df1.groupby('suburb')['suburb'].agg('count')"
   ]
  },
  {
   "cell_type": "code",
   "execution_count": 8,
   "metadata": {},
   "outputs": [
    {
     "data": {
      "text/plain": [
       "region\n",
       "bayside                               63\n",
       "bellarine_peninsula                10479\n",
       "eastern_melbourne                   5317\n",
       "gippsland                          10425\n",
       "inner_east_melbourne                5291\n",
       "melbourne___northern_region         5398\n",
       "melbourne_city___greater_region    10454\n",
       "mornington_peninsula                  56\n",
       "north_east_region                  15627\n",
       "north_west_melbourne                5254\n",
       "northern_region                       30\n",
       "south_east_melbourne                5291\n",
       "south_west_melbourne                  36\n",
       "south_western_region                  14\n",
       "western_melbourne                     27\n",
       "western_region                     26090\n",
       "Name: region, dtype: int64"
      ]
     },
     "execution_count": 8,
     "metadata": {},
     "output_type": "execute_result"
    }
   ],
   "source": [
    "df1.groupby('region')['region'].agg('count')"
   ]
  },
  {
   "cell_type": "code",
   "execution_count": 9,
   "metadata": {},
   "outputs": [
    {
     "data": {
      "text/plain": [
       "postcode\n",
       "3000       2\n",
       "3003       1\n",
       "3004       5\n",
       "3006    5215\n",
       "3008       3\n",
       "        ... \n",
       "3975       2\n",
       "3976       2\n",
       "3977       6\n",
       "3978       3\n",
       "3981    5207\n",
       "Name: postcode, Length: 241, dtype: int64"
      ]
     },
     "execution_count": 9,
     "metadata": {},
     "output_type": "execute_result"
    }
   ],
   "source": [
    "df1.groupby('postcode')['postcode'].agg('count')"
   ]
  },
  {
   "cell_type": "code",
   "execution_count": 10,
   "metadata": {},
   "outputs": [
    {
     "data": {
      "text/html": [
       "<div>\n",
       "<style scoped>\n",
       "    .dataframe tbody tr th:only-of-type {\n",
       "        vertical-align: middle;\n",
       "    }\n",
       "\n",
       "    .dataframe tbody tr th {\n",
       "        vertical-align: top;\n",
       "    }\n",
       "\n",
       "    .dataframe thead th {\n",
       "        text-align: right;\n",
       "    }\n",
       "</style>\n",
       "<table border=\"1\" class=\"dataframe\">\n",
       "  <thead>\n",
       "    <tr style=\"text-align: right;\">\n",
       "      <th></th>\n",
       "      <th>region</th>\n",
       "      <th>bedrooms</th>\n",
       "      <th>bathrooms</th>\n",
       "      <th>parkingSpaces</th>\n",
       "      <th>propertyType</th>\n",
       "      <th>price</th>\n",
       "    </tr>\n",
       "  </thead>\n",
       "  <tbody>\n",
       "    <tr>\n",
       "      <td>0</td>\n",
       "      <td>bellarine_peninsula</td>\n",
       "      <td>3</td>\n",
       "      <td>2</td>\n",
       "      <td>2</td>\n",
       "      <td>house</td>\n",
       "      <td>$1,255,000</td>\n",
       "    </tr>\n",
       "    <tr>\n",
       "      <td>1</td>\n",
       "      <td>bellarine_peninsula</td>\n",
       "      <td>4</td>\n",
       "      <td>2</td>\n",
       "      <td>2</td>\n",
       "      <td>house</td>\n",
       "      <td>$725,000</td>\n",
       "    </tr>\n",
       "    <tr>\n",
       "      <td>2</td>\n",
       "      <td>melbourne___northern_region</td>\n",
       "      <td>4</td>\n",
       "      <td>2</td>\n",
       "      <td>2</td>\n",
       "      <td>house</td>\n",
       "      <td>$670,000</td>\n",
       "    </tr>\n",
       "    <tr>\n",
       "      <td>3</td>\n",
       "      <td>NaN</td>\n",
       "      <td>3</td>\n",
       "      <td>2</td>\n",
       "      <td>1</td>\n",
       "      <td>house</td>\n",
       "      <td>$600,000</td>\n",
       "    </tr>\n",
       "    <tr>\n",
       "      <td>4</td>\n",
       "      <td>bellarine_peninsula</td>\n",
       "      <td>3</td>\n",
       "      <td>1</td>\n",
       "      <td>2</td>\n",
       "      <td>house</td>\n",
       "      <td>$520,000</td>\n",
       "    </tr>\n",
       "  </tbody>\n",
       "</table>\n",
       "</div>"
      ],
      "text/plain": [
       "                        region  bedrooms  bathrooms  parkingSpaces  \\\n",
       "0          bellarine_peninsula         3          2              2   \n",
       "1          bellarine_peninsula         4          2              2   \n",
       "2  melbourne___northern_region         4          2              2   \n",
       "3                          NaN         3          2              1   \n",
       "4          bellarine_peninsula         3          1              2   \n",
       "\n",
       "  propertyType       price  \n",
       "0        house  $1,255,000  \n",
       "1        house    $725,000  \n",
       "2        house    $670,000  \n",
       "3        house    $600,000  \n",
       "4        house    $520,000  "
      ]
     },
     "execution_count": 10,
     "metadata": {},
     "output_type": "execute_result"
    }
   ],
   "source": [
    "df2=df1.drop([\"longitude\",\"latitude\",\"streetAddress\",\"suburb\",\"postcode\",\"listingId\",\"title\",\"modifiedDate\",\"dateSold\"],axis='columns')\n",
    "df2.head()"
   ]
  },
  {
   "cell_type": "code",
   "execution_count": 11,
   "metadata": {},
   "outputs": [],
   "source": [
    "df2.isnull().sum()\n",
    "df3=df2.dropna()"
   ]
  },
  {
   "cell_type": "code",
   "execution_count": 12,
   "metadata": {},
   "outputs": [
    {
     "data": {
      "text/html": [
       "<div>\n",
       "<style scoped>\n",
       "    .dataframe tbody tr th:only-of-type {\n",
       "        vertical-align: middle;\n",
       "    }\n",
       "\n",
       "    .dataframe tbody tr th {\n",
       "        vertical-align: top;\n",
       "    }\n",
       "\n",
       "    .dataframe thead th {\n",
       "        text-align: right;\n",
       "    }\n",
       "</style>\n",
       "<table border=\"1\" class=\"dataframe\">\n",
       "  <thead>\n",
       "    <tr style=\"text-align: right;\">\n",
       "      <th></th>\n",
       "      <th>region</th>\n",
       "      <th>bedrooms</th>\n",
       "      <th>bathrooms</th>\n",
       "      <th>parkingSpaces</th>\n",
       "      <th>propertyType</th>\n",
       "      <th>price</th>\n",
       "    </tr>\n",
       "  </thead>\n",
       "  <tbody>\n",
       "  </tbody>\n",
       "</table>\n",
       "</div>"
      ],
      "text/plain": [
       "Empty DataFrame\n",
       "Columns: [region, bedrooms, bathrooms, parkingSpaces, propertyType, price]\n",
       "Index: []"
      ]
     },
     "execution_count": 12,
     "metadata": {},
     "output_type": "execute_result"
    }
   ],
   "source": [
    "df4=df3[df3.price!=\"Contact agent\"]\n",
    "df4[df4.price==\"Contact agent\"]"
   ]
  },
  {
   "cell_type": "code",
   "execution_count": 13,
   "metadata": {},
   "outputs": [],
   "source": [
    "def convert_price(price):\n",
    "    new_price = price.replace(',','').replace('$','')\n",
    "    return float(new_price)"
   ]
  },
  {
   "cell_type": "code",
   "execution_count": 14,
   "metadata": {},
   "outputs": [
    {
     "name": "stderr",
     "output_type": "stream",
     "text": [
      "C:\\Users\\chait\\Anaconda3\\lib\\site-packages\\ipykernel_launcher.py:1: SettingWithCopyWarning: \n",
      "A value is trying to be set on a copy of a slice from a DataFrame.\n",
      "Try using .loc[row_indexer,col_indexer] = value instead\n",
      "\n",
      "See the caveats in the documentation: http://pandas.pydata.org/pandas-docs/stable/user_guide/indexing.html#returning-a-view-versus-a-copy\n",
      "  \"\"\"Entry point for launching an IPython kernel.\n"
     ]
    }
   ],
   "source": [
    "df4['price'] = df4['price'].apply(convert_price)"
   ]
  },
  {
   "cell_type": "code",
   "execution_count": 15,
   "metadata": {},
   "outputs": [
    {
     "data": {
      "text/html": [
       "<div>\n",
       "<style scoped>\n",
       "    .dataframe tbody tr th:only-of-type {\n",
       "        vertical-align: middle;\n",
       "    }\n",
       "\n",
       "    .dataframe tbody tr th {\n",
       "        vertical-align: top;\n",
       "    }\n",
       "\n",
       "    .dataframe thead th {\n",
       "        text-align: right;\n",
       "    }\n",
       "</style>\n",
       "<table border=\"1\" class=\"dataframe\">\n",
       "  <thead>\n",
       "    <tr style=\"text-align: right;\">\n",
       "      <th></th>\n",
       "      <th>region</th>\n",
       "      <th>bedrooms</th>\n",
       "      <th>bathrooms</th>\n",
       "      <th>parkingSpaces</th>\n",
       "      <th>propertyType</th>\n",
       "      <th>price</th>\n",
       "    </tr>\n",
       "  </thead>\n",
       "  <tbody>\n",
       "    <tr>\n",
       "      <td>0</td>\n",
       "      <td>bellarine_peninsula</td>\n",
       "      <td>3</td>\n",
       "      <td>2</td>\n",
       "      <td>2</td>\n",
       "      <td>house</td>\n",
       "      <td>1255000.0</td>\n",
       "    </tr>\n",
       "    <tr>\n",
       "      <td>1</td>\n",
       "      <td>bellarine_peninsula</td>\n",
       "      <td>4</td>\n",
       "      <td>2</td>\n",
       "      <td>2</td>\n",
       "      <td>house</td>\n",
       "      <td>725000.0</td>\n",
       "    </tr>\n",
       "    <tr>\n",
       "      <td>2</td>\n",
       "      <td>melbourne___northern_region</td>\n",
       "      <td>4</td>\n",
       "      <td>2</td>\n",
       "      <td>2</td>\n",
       "      <td>house</td>\n",
       "      <td>670000.0</td>\n",
       "    </tr>\n",
       "    <tr>\n",
       "      <td>4</td>\n",
       "      <td>bellarine_peninsula</td>\n",
       "      <td>3</td>\n",
       "      <td>1</td>\n",
       "      <td>2</td>\n",
       "      <td>house</td>\n",
       "      <td>520000.0</td>\n",
       "    </tr>\n",
       "    <tr>\n",
       "      <td>5</td>\n",
       "      <td>south_western_region</td>\n",
       "      <td>3</td>\n",
       "      <td>2</td>\n",
       "      <td>3</td>\n",
       "      <td>house</td>\n",
       "      <td>515000.0</td>\n",
       "    </tr>\n",
       "  </tbody>\n",
       "</table>\n",
       "</div>"
      ],
      "text/plain": [
       "                        region  bedrooms  bathrooms  parkingSpaces  \\\n",
       "0          bellarine_peninsula         3          2              2   \n",
       "1          bellarine_peninsula         4          2              2   \n",
       "2  melbourne___northern_region         4          2              2   \n",
       "4          bellarine_peninsula         3          1              2   \n",
       "5         south_western_region         3          2              3   \n",
       "\n",
       "  propertyType      price  \n",
       "0        house  1255000.0  \n",
       "1        house   725000.0  \n",
       "2        house   670000.0  \n",
       "4        house   520000.0  \n",
       "5        house   515000.0  "
      ]
     },
     "execution_count": 15,
     "metadata": {},
     "output_type": "execute_result"
    }
   ],
   "source": [
    "df4.head()"
   ]
  },
  {
   "cell_type": "code",
   "execution_count": 16,
   "metadata": {},
   "outputs": [
    {
     "data": {
      "text/plain": [
       "array([ 3,  4,  5,  6,  2,  1,  7, 13], dtype=int64)"
      ]
     },
     "execution_count": 16,
     "metadata": {},
     "output_type": "execute_result"
    }
   ],
   "source": [
    "df4[\"bedrooms\"].unique()"
   ]
  },
  {
   "cell_type": "code",
   "execution_count": 17,
   "metadata": {},
   "outputs": [
    {
     "data": {
      "text/plain": [
       "array([2, 1, 4, 3, 5], dtype=int64)"
      ]
     },
     "execution_count": 17,
     "metadata": {},
     "output_type": "execute_result"
    }
   ],
   "source": [
    "df4[\"bathrooms\"].unique()"
   ]
  },
  {
   "cell_type": "code",
   "execution_count": 18,
   "metadata": {},
   "outputs": [
    {
     "data": {
      "text/plain": [
       "array([ 2,  3,  1,  5,  6,  4,  0, 10,  8, 12, 14,  7], dtype=int64)"
      ]
     },
     "execution_count": 18,
     "metadata": {},
     "output_type": "execute_result"
    }
   ],
   "source": [
    "df4[\"parkingSpaces\"].unique()"
   ]
  },
  {
   "cell_type": "code",
   "execution_count": 19,
   "metadata": {},
   "outputs": [
    {
     "data": {
      "text/plain": [
       "array([2, 3, 1, 5, 6, 4, 0], dtype=int64)"
      ]
     },
     "execution_count": 19,
     "metadata": {},
     "output_type": "execute_result"
    }
   ],
   "source": [
    "df5=df4[df4.parkingSpaces < 7]\n",
    "df5[\"parkingSpaces\"].unique()"
   ]
  },
  {
   "cell_type": "code",
   "execution_count": 20,
   "metadata": {},
   "outputs": [],
   "source": [
    "df6=df5[df5.bedrooms < 7]"
   ]
  },
  {
   "cell_type": "code",
   "execution_count": 21,
   "metadata": {},
   "outputs": [
    {
     "data": {
      "text/plain": [
       "array([3, 4, 5, 6, 2, 1], dtype=int64)"
      ]
     },
     "execution_count": 21,
     "metadata": {},
     "output_type": "execute_result"
    }
   ],
   "source": [
    "df6[\"bedrooms\"].unique()"
   ]
  },
  {
   "cell_type": "code",
   "execution_count": 22,
   "metadata": {},
   "outputs": [
    {
     "data": {
      "text/plain": [
       "array([2, 1, 4, 3, 5], dtype=int64)"
      ]
     },
     "execution_count": 22,
     "metadata": {},
     "output_type": "execute_result"
    }
   ],
   "source": [
    "df6[\"bathrooms\"].unique()"
   ]
  },
  {
   "cell_type": "code",
   "execution_count": 23,
   "metadata": {},
   "outputs": [
    {
     "data": {
      "text/html": [
       "<div>\n",
       "<style scoped>\n",
       "    .dataframe tbody tr th:only-of-type {\n",
       "        vertical-align: middle;\n",
       "    }\n",
       "\n",
       "    .dataframe tbody tr th {\n",
       "        vertical-align: top;\n",
       "    }\n",
       "\n",
       "    .dataframe thead th {\n",
       "        text-align: right;\n",
       "    }\n",
       "</style>\n",
       "<table border=\"1\" class=\"dataframe\">\n",
       "  <thead>\n",
       "    <tr style=\"text-align: right;\">\n",
       "      <th></th>\n",
       "      <th>region</th>\n",
       "      <th>bedrooms</th>\n",
       "      <th>bathrooms</th>\n",
       "      <th>parkingSpaces</th>\n",
       "      <th>propertyType</th>\n",
       "      <th>price</th>\n",
       "    </tr>\n",
       "  </thead>\n",
       "  <tbody>\n",
       "    <tr>\n",
       "      <td>0</td>\n",
       "      <td>bellarine_peninsula</td>\n",
       "      <td>3</td>\n",
       "      <td>2</td>\n",
       "      <td>2</td>\n",
       "      <td>house</td>\n",
       "      <td>1255000.0</td>\n",
       "    </tr>\n",
       "    <tr>\n",
       "      <td>1</td>\n",
       "      <td>bellarine_peninsula</td>\n",
       "      <td>4</td>\n",
       "      <td>2</td>\n",
       "      <td>2</td>\n",
       "      <td>house</td>\n",
       "      <td>725000.0</td>\n",
       "    </tr>\n",
       "    <tr>\n",
       "      <td>2</td>\n",
       "      <td>melbourne___northern_region</td>\n",
       "      <td>4</td>\n",
       "      <td>2</td>\n",
       "      <td>2</td>\n",
       "      <td>house</td>\n",
       "      <td>670000.0</td>\n",
       "    </tr>\n",
       "    <tr>\n",
       "      <td>4</td>\n",
       "      <td>bellarine_peninsula</td>\n",
       "      <td>3</td>\n",
       "      <td>1</td>\n",
       "      <td>2</td>\n",
       "      <td>house</td>\n",
       "      <td>520000.0</td>\n",
       "    </tr>\n",
       "    <tr>\n",
       "      <td>5</td>\n",
       "      <td>south_western_region</td>\n",
       "      <td>3</td>\n",
       "      <td>2</td>\n",
       "      <td>3</td>\n",
       "      <td>house</td>\n",
       "      <td>515000.0</td>\n",
       "    </tr>\n",
       "  </tbody>\n",
       "</table>\n",
       "</div>"
      ],
      "text/plain": [
       "                        region  bedrooms  bathrooms  parkingSpaces  \\\n",
       "0          bellarine_peninsula         3          2              2   \n",
       "1          bellarine_peninsula         4          2              2   \n",
       "2  melbourne___northern_region         4          2              2   \n",
       "4          bellarine_peninsula         3          1              2   \n",
       "5         south_western_region         3          2              3   \n",
       "\n",
       "  propertyType      price  \n",
       "0        house  1255000.0  \n",
       "1        house   725000.0  \n",
       "2        house   670000.0  \n",
       "4        house   520000.0  \n",
       "5        house   515000.0  "
      ]
     },
     "execution_count": 23,
     "metadata": {},
     "output_type": "execute_result"
    }
   ],
   "source": [
    "df6.head()"
   ]
  },
  {
   "cell_type": "code",
   "execution_count": 24,
   "metadata": {},
   "outputs": [
    {
     "data": {
      "text/html": [
       "<div>\n",
       "<style scoped>\n",
       "    .dataframe tbody tr th:only-of-type {\n",
       "        vertical-align: middle;\n",
       "    }\n",
       "\n",
       "    .dataframe tbody tr th {\n",
       "        vertical-align: top;\n",
       "    }\n",
       "\n",
       "    .dataframe thead th {\n",
       "        text-align: right;\n",
       "    }\n",
       "</style>\n",
       "<table border=\"1\" class=\"dataframe\">\n",
       "  <thead>\n",
       "    <tr style=\"text-align: right;\">\n",
       "      <th></th>\n",
       "      <th>region</th>\n",
       "      <th>bedrooms</th>\n",
       "      <th>bathrooms</th>\n",
       "      <th>parkingSpaces</th>\n",
       "      <th>propertyType</th>\n",
       "      <th>price</th>\n",
       "      <th>price_per_bedroom</th>\n",
       "    </tr>\n",
       "  </thead>\n",
       "  <tbody>\n",
       "    <tr>\n",
       "      <td>105099</td>\n",
       "      <td>western_region</td>\n",
       "      <td>3</td>\n",
       "      <td>2</td>\n",
       "      <td>2</td>\n",
       "      <td>house</td>\n",
       "      <td>330000.0</td>\n",
       "      <td>110000.000000</td>\n",
       "    </tr>\n",
       "    <tr>\n",
       "      <td>105100</td>\n",
       "      <td>eastern_melbourne</td>\n",
       "      <td>3</td>\n",
       "      <td>1</td>\n",
       "      <td>1</td>\n",
       "      <td>unit</td>\n",
       "      <td>471000.0</td>\n",
       "      <td>157000.000000</td>\n",
       "    </tr>\n",
       "    <tr>\n",
       "      <td>105101</td>\n",
       "      <td>inner_east_melbourne</td>\n",
       "      <td>2</td>\n",
       "      <td>1</td>\n",
       "      <td>1</td>\n",
       "      <td>apartment</td>\n",
       "      <td>470000.0</td>\n",
       "      <td>235000.000000</td>\n",
       "    </tr>\n",
       "    <tr>\n",
       "      <td>105102</td>\n",
       "      <td>western_region</td>\n",
       "      <td>4</td>\n",
       "      <td>2</td>\n",
       "      <td>2</td>\n",
       "      <td>house</td>\n",
       "      <td>470000.0</td>\n",
       "      <td>117500.000000</td>\n",
       "    </tr>\n",
       "    <tr>\n",
       "      <td>105103</td>\n",
       "      <td>north_east_region</td>\n",
       "      <td>3</td>\n",
       "      <td>2</td>\n",
       "      <td>2</td>\n",
       "      <td>house</td>\n",
       "      <td>465000.0</td>\n",
       "      <td>155000.000000</td>\n",
       "    </tr>\n",
       "    <tr>\n",
       "      <td>105104</td>\n",
       "      <td>bellarine_peninsula</td>\n",
       "      <td>3</td>\n",
       "      <td>2</td>\n",
       "      <td>2</td>\n",
       "      <td>townhouse</td>\n",
       "      <td>460000.0</td>\n",
       "      <td>153333.333333</td>\n",
       "    </tr>\n",
       "    <tr>\n",
       "      <td>105105</td>\n",
       "      <td>melbourne___northern_region</td>\n",
       "      <td>2</td>\n",
       "      <td>2</td>\n",
       "      <td>1</td>\n",
       "      <td>house</td>\n",
       "      <td>455000.0</td>\n",
       "      <td>227500.000000</td>\n",
       "    </tr>\n",
       "    <tr>\n",
       "      <td>105106</td>\n",
       "      <td>western_region</td>\n",
       "      <td>3</td>\n",
       "      <td>2</td>\n",
       "      <td>2</td>\n",
       "      <td>house</td>\n",
       "      <td>455000.0</td>\n",
       "      <td>151666.666667</td>\n",
       "    </tr>\n",
       "    <tr>\n",
       "      <td>105107</td>\n",
       "      <td>gippsland</td>\n",
       "      <td>3</td>\n",
       "      <td>1</td>\n",
       "      <td>2</td>\n",
       "      <td>house</td>\n",
       "      <td>452500.0</td>\n",
       "      <td>150833.333333</td>\n",
       "    </tr>\n",
       "    <tr>\n",
       "      <td>105109</td>\n",
       "      <td>north_west_melbourne</td>\n",
       "      <td>2</td>\n",
       "      <td>2</td>\n",
       "      <td>1</td>\n",
       "      <td>apartment</td>\n",
       "      <td>447000.0</td>\n",
       "      <td>223500.000000</td>\n",
       "    </tr>\n",
       "    <tr>\n",
       "      <td>105110</td>\n",
       "      <td>melbourne_city___greater_region</td>\n",
       "      <td>1</td>\n",
       "      <td>1</td>\n",
       "      <td>1</td>\n",
       "      <td>apartment</td>\n",
       "      <td>440000.0</td>\n",
       "      <td>440000.000000</td>\n",
       "    </tr>\n",
       "    <tr>\n",
       "      <td>105111</td>\n",
       "      <td>bellarine_peninsula</td>\n",
       "      <td>2</td>\n",
       "      <td>1</td>\n",
       "      <td>1</td>\n",
       "      <td>unit</td>\n",
       "      <td>432500.0</td>\n",
       "      <td>216250.000000</td>\n",
       "    </tr>\n",
       "    <tr>\n",
       "      <td>105112</td>\n",
       "      <td>western_region</td>\n",
       "      <td>3</td>\n",
       "      <td>1</td>\n",
       "      <td>2</td>\n",
       "      <td>house</td>\n",
       "      <td>390000.0</td>\n",
       "      <td>130000.000000</td>\n",
       "    </tr>\n",
       "    <tr>\n",
       "      <td>105113</td>\n",
       "      <td>north_east_region</td>\n",
       "      <td>3</td>\n",
       "      <td>2</td>\n",
       "      <td>2</td>\n",
       "      <td>house</td>\n",
       "      <td>388000.0</td>\n",
       "      <td>129333.333333</td>\n",
       "    </tr>\n",
       "    <tr>\n",
       "      <td>105114</td>\n",
       "      <td>western_region</td>\n",
       "      <td>3</td>\n",
       "      <td>2</td>\n",
       "      <td>2</td>\n",
       "      <td>house</td>\n",
       "      <td>376000.0</td>\n",
       "      <td>125333.333333</td>\n",
       "    </tr>\n",
       "    <tr>\n",
       "      <td>105115</td>\n",
       "      <td>gippsland</td>\n",
       "      <td>2</td>\n",
       "      <td>1</td>\n",
       "      <td>1</td>\n",
       "      <td>unit</td>\n",
       "      <td>356000.0</td>\n",
       "      <td>178000.000000</td>\n",
       "    </tr>\n",
       "    <tr>\n",
       "      <td>105116</td>\n",
       "      <td>melbourne_city___greater_region</td>\n",
       "      <td>1</td>\n",
       "      <td>1</td>\n",
       "      <td>1</td>\n",
       "      <td>apartment</td>\n",
       "      <td>355000.0</td>\n",
       "      <td>355000.000000</td>\n",
       "    </tr>\n",
       "    <tr>\n",
       "      <td>105117</td>\n",
       "      <td>north_east_region</td>\n",
       "      <td>4</td>\n",
       "      <td>2</td>\n",
       "      <td>2</td>\n",
       "      <td>house</td>\n",
       "      <td>345000.0</td>\n",
       "      <td>86250.000000</td>\n",
       "    </tr>\n",
       "    <tr>\n",
       "      <td>105118</td>\n",
       "      <td>south_east_melbourne</td>\n",
       "      <td>3</td>\n",
       "      <td>1</td>\n",
       "      <td>1</td>\n",
       "      <td>house</td>\n",
       "      <td>340000.0</td>\n",
       "      <td>113333.333333</td>\n",
       "    </tr>\n",
       "    <tr>\n",
       "      <td>105119</td>\n",
       "      <td>western_region</td>\n",
       "      <td>3</td>\n",
       "      <td>2</td>\n",
       "      <td>2</td>\n",
       "      <td>house</td>\n",
       "      <td>330000.0</td>\n",
       "      <td>110000.000000</td>\n",
       "    </tr>\n",
       "  </tbody>\n",
       "</table>\n",
       "</div>"
      ],
      "text/plain": [
       "                                 region  bedrooms  bathrooms  parkingSpaces  \\\n",
       "105099                   western_region         3          2              2   \n",
       "105100                eastern_melbourne         3          1              1   \n",
       "105101             inner_east_melbourne         2          1              1   \n",
       "105102                   western_region         4          2              2   \n",
       "105103                north_east_region         3          2              2   \n",
       "105104              bellarine_peninsula         3          2              2   \n",
       "105105      melbourne___northern_region         2          2              1   \n",
       "105106                   western_region         3          2              2   \n",
       "105107                        gippsland         3          1              2   \n",
       "105109             north_west_melbourne         2          2              1   \n",
       "105110  melbourne_city___greater_region         1          1              1   \n",
       "105111              bellarine_peninsula         2          1              1   \n",
       "105112                   western_region         3          1              2   \n",
       "105113                north_east_region         3          2              2   \n",
       "105114                   western_region         3          2              2   \n",
       "105115                        gippsland         2          1              1   \n",
       "105116  melbourne_city___greater_region         1          1              1   \n",
       "105117                north_east_region         4          2              2   \n",
       "105118             south_east_melbourne         3          1              1   \n",
       "105119                   western_region         3          2              2   \n",
       "\n",
       "       propertyType     price  price_per_bedroom  \n",
       "105099        house  330000.0      110000.000000  \n",
       "105100         unit  471000.0      157000.000000  \n",
       "105101    apartment  470000.0      235000.000000  \n",
       "105102        house  470000.0      117500.000000  \n",
       "105103        house  465000.0      155000.000000  \n",
       "105104    townhouse  460000.0      153333.333333  \n",
       "105105        house  455000.0      227500.000000  \n",
       "105106        house  455000.0      151666.666667  \n",
       "105107        house  452500.0      150833.333333  \n",
       "105109    apartment  447000.0      223500.000000  \n",
       "105110    apartment  440000.0      440000.000000  \n",
       "105111         unit  432500.0      216250.000000  \n",
       "105112        house  390000.0      130000.000000  \n",
       "105113        house  388000.0      129333.333333  \n",
       "105114        house  376000.0      125333.333333  \n",
       "105115         unit  356000.0      178000.000000  \n",
       "105116    apartment  355000.0      355000.000000  \n",
       "105117        house  345000.0       86250.000000  \n",
       "105118        house  340000.0      113333.333333  \n",
       "105119        house  330000.0      110000.000000  "
      ]
     },
     "execution_count": 24,
     "metadata": {},
     "output_type": "execute_result"
    }
   ],
   "source": [
    "df7=df6.copy()\n",
    "df7[\"price_per_bedroom\"]=df7[\"price\"]/df7[\"bedrooms\"]\n",
    "df7.tail(20)"
   ]
  },
  {
   "cell_type": "code",
   "execution_count": 25,
   "metadata": {},
   "outputs": [
    {
     "name": "stdout",
     "output_type": "stream",
     "text": [
      "bayside\n",
      "371905.5555555556\n",
      "bellarine_peninsula\n",
      "184774.85208510933\n",
      "eastern_melbourne\n",
      "159308.87789275634\n",
      "gippsland\n",
      "164414.1087130197\n",
      "inner_east_melbourne\n",
      "237486.38962472408\n",
      "melbourne___northern_region\n",
      "228449.62486105965\n",
      "melbourne_city___greater_region\n",
      "397561.12918141525\n",
      "mornington_peninsula\n",
      "240924.84276729563\n",
      "north_east_region\n",
      "123520.84373199349\n",
      "north_west_melbourne\n",
      "223619.7823465956\n",
      "northern_region\n",
      "141770.11494252871\n",
      "south_east_melbourne\n",
      "114538.2379354854\n",
      "south_west_melbourne\n",
      "203919.4761904762\n",
      "south_western_region\n",
      "194567.3076923077\n",
      "western_melbourne\n",
      "246518.51851851848\n",
      "western_region\n",
      "126968.67365583155\n"
     ]
    }
   ],
   "source": [
    "grp2=df7.groupby(\"region\")\n",
    "grp2\n",
    "for region, region_df in grp2:\n",
    "    print(region)\n",
    "    print(region_df[\"price_per_bedroom\"].mean())"
   ]
  },
  {
   "cell_type": "code",
   "execution_count": 26,
   "metadata": {},
   "outputs": [
    {
     "data": {
      "image/png": "[encoded data removed]",
      "text/plain": [
       "<Figure size 2880x1080 with 1 Axes>"
      ]
     },
     "metadata": {
      "needs_background": "light"
     },
     "output_type": "display_data"
    }
   ],
   "source": [
    "matplotlib.rcParams[\"figure.figsize\"] = (40,15)\n",
    "x=df7.region.unique()\n",
    "y=[]\n",
    "for region, region_df in grp2:\n",
    "    y.append(region_df[\"price_per_bedroom\"].mean())\n",
    "plt.bar(x,y)\n",
    "plt.xlabel('x')\n",
    "plt.ylabel('y')\n",
    "plt.title(\"Mean Pricing acc to region\")\n",
    "plt.show()\n"
   ]
  },
  {
   "cell_type": "code",
   "execution_count": 27,
   "metadata": {},
   "outputs": [
    {
     "name": "stdout",
     "output_type": "stream",
     "text": [
      "[array(['house', 'apartment', 'unit', 'townhouse'], dtype=object)]\n",
      "[313390.26310212404, 137343.4961775107, 154993.6903181012, 184044.8005766535]\n"
     ]
    },
    {
     "data": {
      "image/png": "[encoded data removed]",
      "text/plain": [
       "<Figure size 1080x720 with 1 Axes>"
      ]
     },
     "metadata": {},
     "output_type": "display_data"
    }
   ],
   "source": [
    "grp1=df7.groupby(\"propertyType\")\n",
    "grp1\n",
    "slices=[]\n",
    "matplotlib.rcParams[\"figure.figsize\"] = (15,10)\n",
    "for propertyType, property_df in grp1:\n",
    "    slices.append(property_df[\"price_per_bedroom\"].mean())\n",
    "properties=[]\n",
    "properties.append(df7.propertyType.unique())\n",
    "print(properties)\n",
    "print(slices)\n",
    "cols=['c','m','r','k']\n",
    "plt.pie(slices, labels=['apartment', 'house', 'unit', 'townhouse'], colors=cols)\n",
    "plt.title(\"Different types of Properties Available\")\n",
    "plt.show()"
   ]
  },
  {
   "cell_type": "code",
   "execution_count": 28,
   "metadata": {},
   "outputs": [
    {
     "data": {
      "image/png": "[encoded data removed]",
      "text/plain": [
       "<Figure size 1080x720 with 1 Axes>"
      ]
     },
     "metadata": {},
     "output_type": "display_data"
    }
   ],
   "source": [
    "slices=[]\n",
    "matplotlib.rcParams[\"figure.figsize\"] = (15,10)\n",
    "for region, region_df in grp2:\n",
    "    slices.append(region_df[\"region\"].count())\n",
    "properties=[]\n",
    "properties.append(df7.region.unique())\n",
    "matplotlib.rcParams['lines.linewidth'] =5\n",
    "plt.rcParams['patch.edgecolor'] = 'black'\n",
    "cols=['c','m','r','k','b','g','tab:blue', 'tab:orange', 'tab:green', 'tab:red', 'tab:purple', 'tab:brown', 'tab:pink', 'tab:gray', 'tab:olive', 'tab:cyan']\n",
    "plt.pie(slices, labels=['melbourne_city___greater_region', 'mornington_peninsula',\n",
    "       'inner_east_melbourne', 'north_west_melbourne',\n",
    "       'south_east_melbourne', 'melbourne___northern_region',\n",
    "       'western_melbourne', 'eastern_melbourne', 'bayside',\n",
    "       'western_region', 'south_west_melbourne', 'bellarine_peninsula',\n",
    "       'gippsland', 'south_western_region', 'northern_region',\n",
    "       'north_east_region'], colors=cols)\n",
    "plt.title(\"Different types of Properties Available\")\n",
    "plt.show()"
   ]
  },
  {
   "cell_type": "code",
   "execution_count": 29,
   "metadata": {},
   "outputs": [
    {
     "data": {
      "text/plain": [
       "propertyType  region                         \n",
       "apartment     bayside                                8\n",
       "              eastern_melbourne                      1\n",
       "              inner_east_melbourne                5239\n",
       "              melbourne___northern_region           21\n",
       "              melbourne_city___greater_region    10434\n",
       "              mornington_peninsula                   1\n",
       "              north_west_melbourne                5212\n",
       "              south_western_region                   1\n",
       "              western_melbourne                      2\n",
       "house         bayside                               30\n",
       "              bellarine_peninsula                   54\n",
       "              eastern_melbourne                     84\n",
       "              gippsland                           5217\n",
       "              inner_east_melbourne                  34\n",
       "              melbourne___northern_region         5347\n",
       "              melbourne_city___greater_region       15\n",
       "              mornington_peninsula                  45\n",
       "              north_east_region                  15627\n",
       "              north_west_melbourne                  37\n",
       "              northern_region                       27\n",
       "              south_east_melbourne                5279\n",
       "              south_west_melbourne                  34\n",
       "              south_western_region                  12\n",
       "              western_melbourne                     19\n",
       "              western_region                     26086\n",
       "townhouse     bayside                               13\n",
       "              bellarine_peninsula                 5213\n",
       "              eastern_melbourne                      8\n",
       "              inner_east_melbourne                   6\n",
       "              melbourne___northern_region           14\n",
       "              melbourne_city___greater_region        3\n",
       "              mornington_peninsula                   3\n",
       "              north_west_melbourne                   1\n",
       "              northern_region                        1\n",
       "              south_east_melbourne                   2\n",
       "              western_melbourne                      6\n",
       "              western_region                         1\n",
       "unit          bayside                                9\n",
       "              bellarine_peninsula                 5212\n",
       "              eastern_melbourne                   5222\n",
       "              gippsland                           5208\n",
       "              inner_east_melbourne                   6\n",
       "              melbourne___northern_region           16\n",
       "              melbourne_city___greater_region        1\n",
       "              mornington_peninsula                   4\n",
       "              north_west_melbourne                   3\n",
       "              northern_region                        1\n",
       "              south_east_melbourne                  10\n",
       "              south_west_melbourne                   1\n",
       "              western_region                         1\n",
       "dtype: int64"
      ]
     },
     "execution_count": 29,
     "metadata": {},
     "output_type": "execute_result"
    }
   ],
   "source": [
    "df7.groupby(['propertyType','region']).size()"
   ]
  },
  {
   "cell_type": "code",
   "execution_count": 30,
   "metadata": {},
   "outputs": [],
   "source": [
    "temp1=df7[df7.propertyType==\"acreage/semi-rural\"]\n",
    "temp2=df7[df7.propertyType==\"apartment\"]\n",
    "temp3=df7[df7.propertyType==\"house\"]\n",
    "temp4=df7[df7.propertyType==\"townhouse\"]\n",
    "temp5=df7[df7.propertyType==\"unit\"]\n",
    "temp6=df7[df7.propertyType==\"villa\"]"
   ]
  },
  {
   "cell_type": "code",
   "execution_count": 31,
   "metadata": {},
   "outputs": [],
   "source": [
    "def remove_pps_outliers(df):\n",
    "    df_out= pd.DataFrame()\n",
    "    for key, subdf in df.groupby('region'):\n",
    "        m=np.mean(subdf.price_per_bedroom)\n",
    "        st=np.std(subdf.price_per_bedroom)\n",
    "        reduced_df = subdf[(subdf.price_per_bedroom > (m-st)) & (subdf.price_per_bedroom < (m+st))]\n",
    "        df_out = pd.concat([df_out,reduced_df], ignore_index=True)\n",
    "    return df_out\n",
    "                     "
   ]
  },
  {
   "cell_type": "code",
   "execution_count": 32,
   "metadata": {},
   "outputs": [],
   "source": [
    "t1=remove_pps_outliers(temp1)\n",
    "t2=remove_pps_outliers(temp2)\n",
    "t3=remove_pps_outliers(temp3)\n",
    "t4=remove_pps_outliers(temp4)\n",
    "t5=remove_pps_outliers(temp5)\n",
    "t6=remove_pps_outliers(temp6)"
   ]
  },
  {
   "cell_type": "code",
   "execution_count": 33,
   "metadata": {},
   "outputs": [],
   "source": [
    "df8 = pd.concat([t1, t2, t3, t4,t5,t6])\n",
    "df8.reset_index(drop=True, inplace=True)"
   ]
  },
  {
   "cell_type": "code",
   "execution_count": 34,
   "metadata": {},
   "outputs": [
    {
     "data": {
      "text/html": [
       "<div>\n",
       "<style scoped>\n",
       "    .dataframe tbody tr th:only-of-type {\n",
       "        vertical-align: middle;\n",
       "    }\n",
       "\n",
       "    .dataframe tbody tr th {\n",
       "        vertical-align: top;\n",
       "    }\n",
       "\n",
       "    .dataframe thead th {\n",
       "        text-align: right;\n",
       "    }\n",
       "</style>\n",
       "<table border=\"1\" class=\"dataframe\">\n",
       "  <thead>\n",
       "    <tr style=\"text-align: right;\">\n",
       "      <th></th>\n",
       "      <th>region</th>\n",
       "      <th>bedrooms</th>\n",
       "      <th>bathrooms</th>\n",
       "      <th>parkingSpaces</th>\n",
       "      <th>propertyType</th>\n",
       "      <th>price</th>\n",
       "      <th>price_per_bedroom</th>\n",
       "    </tr>\n",
       "  </thead>\n",
       "  <tbody>\n",
       "    <tr>\n",
       "      <td>0</td>\n",
       "      <td>bayside</td>\n",
       "      <td>2</td>\n",
       "      <td>1</td>\n",
       "      <td>1</td>\n",
       "      <td>apartment</td>\n",
       "      <td>610000.0</td>\n",
       "      <td>305000.00</td>\n",
       "    </tr>\n",
       "    <tr>\n",
       "      <td>1</td>\n",
       "      <td>bayside</td>\n",
       "      <td>2</td>\n",
       "      <td>2</td>\n",
       "      <td>1</td>\n",
       "      <td>apartment</td>\n",
       "      <td>630000.0</td>\n",
       "      <td>315000.00</td>\n",
       "    </tr>\n",
       "    <tr>\n",
       "      <td>2</td>\n",
       "      <td>bayside</td>\n",
       "      <td>2</td>\n",
       "      <td>1</td>\n",
       "      <td>2</td>\n",
       "      <td>apartment</td>\n",
       "      <td>620000.0</td>\n",
       "      <td>310000.00</td>\n",
       "    </tr>\n",
       "    <tr>\n",
       "      <td>3</td>\n",
       "      <td>bayside</td>\n",
       "      <td>2</td>\n",
       "      <td>2</td>\n",
       "      <td>1</td>\n",
       "      <td>apartment</td>\n",
       "      <td>602500.0</td>\n",
       "      <td>301250.00</td>\n",
       "    </tr>\n",
       "    <tr>\n",
       "      <td>4</td>\n",
       "      <td>bayside</td>\n",
       "      <td>1</td>\n",
       "      <td>1</td>\n",
       "      <td>1</td>\n",
       "      <td>apartment</td>\n",
       "      <td>365000.0</td>\n",
       "      <td>365000.00</td>\n",
       "    </tr>\n",
       "    <tr>\n",
       "      <td>...</td>\n",
       "      <td>...</td>\n",
       "      <td>...</td>\n",
       "      <td>...</td>\n",
       "      <td>...</td>\n",
       "      <td>...</td>\n",
       "      <td>...</td>\n",
       "      <td>...</td>\n",
       "    </tr>\n",
       "    <tr>\n",
       "      <td>78560</td>\n",
       "      <td>south_east_melbourne</td>\n",
       "      <td>2</td>\n",
       "      <td>1</td>\n",
       "      <td>1</td>\n",
       "      <td>unit</td>\n",
       "      <td>362000.0</td>\n",
       "      <td>181000.00</td>\n",
       "    </tr>\n",
       "    <tr>\n",
       "      <td>78561</td>\n",
       "      <td>south_east_melbourne</td>\n",
       "      <td>1</td>\n",
       "      <td>1</td>\n",
       "      <td>1</td>\n",
       "      <td>unit</td>\n",
       "      <td>250000.0</td>\n",
       "      <td>250000.00</td>\n",
       "    </tr>\n",
       "    <tr>\n",
       "      <td>78562</td>\n",
       "      <td>south_east_melbourne</td>\n",
       "      <td>4</td>\n",
       "      <td>2</td>\n",
       "      <td>2</td>\n",
       "      <td>unit</td>\n",
       "      <td>640001.0</td>\n",
       "      <td>160000.25</td>\n",
       "    </tr>\n",
       "    <tr>\n",
       "      <td>78563</td>\n",
       "      <td>south_east_melbourne</td>\n",
       "      <td>2</td>\n",
       "      <td>1</td>\n",
       "      <td>0</td>\n",
       "      <td>unit</td>\n",
       "      <td>475000.0</td>\n",
       "      <td>237500.00</td>\n",
       "    </tr>\n",
       "    <tr>\n",
       "      <td>78564</td>\n",
       "      <td>south_east_melbourne</td>\n",
       "      <td>1</td>\n",
       "      <td>1</td>\n",
       "      <td>0</td>\n",
       "      <td>unit</td>\n",
       "      <td>245000.0</td>\n",
       "      <td>245000.00</td>\n",
       "    </tr>\n",
       "  </tbody>\n",
       "</table>\n",
       "<p>78565 rows × 7 columns</p>\n",
       "</div>"
      ],
      "text/plain": [
       "                     region  bedrooms  bathrooms  parkingSpaces propertyType  \\\n",
       "0                   bayside         2          1              1    apartment   \n",
       "1                   bayside         2          2              1    apartment   \n",
       "2                   bayside         2          1              2    apartment   \n",
       "3                   bayside         2          2              1    apartment   \n",
       "4                   bayside         1          1              1    apartment   \n",
       "...                     ...       ...        ...            ...          ...   \n",
       "78560  south_east_melbourne         2          1              1         unit   \n",
       "78561  south_east_melbourne         1          1              1         unit   \n",
       "78562  south_east_melbourne         4          2              2         unit   \n",
       "78563  south_east_melbourne         2          1              0         unit   \n",
       "78564  south_east_melbourne         1          1              0         unit   \n",
       "\n",
       "          price  price_per_bedroom  \n",
       "0      610000.0          305000.00  \n",
       "1      630000.0          315000.00  \n",
       "2      620000.0          310000.00  \n",
       "3      602500.0          301250.00  \n",
       "4      365000.0          365000.00  \n",
       "...         ...                ...  \n",
       "78560  362000.0          181000.00  \n",
       "78561  250000.0          250000.00  \n",
       "78562  640001.0          160000.25  \n",
       "78563  475000.0          237500.00  \n",
       "78564  245000.0          245000.00  \n",
       "\n",
       "[78565 rows x 7 columns]"
      ]
     },
     "execution_count": 34,
     "metadata": {},
     "output_type": "execute_result"
    }
   ],
   "source": [
    "df8"
   ]
  },
  {
   "cell_type": "code",
   "execution_count": 35,
   "metadata": {},
   "outputs": [
    {
     "data": {
      "text/plain": [
       "array(['apartment', 'house', 'townhouse', 'unit'], dtype=object)"
      ]
     },
     "execution_count": 35,
     "metadata": {},
     "output_type": "execute_result"
    }
   ],
   "source": [
    "df8.propertyType.unique()"
   ]
  },
  {
   "cell_type": "code",
   "execution_count": 36,
   "metadata": {},
   "outputs": [
    {
     "data": {
      "text/html": [
       "<div>\n",
       "<style scoped>\n",
       "    .dataframe tbody tr th:only-of-type {\n",
       "        vertical-align: middle;\n",
       "    }\n",
       "\n",
       "    .dataframe tbody tr th {\n",
       "        vertical-align: top;\n",
       "    }\n",
       "\n",
       "    .dataframe thead th {\n",
       "        text-align: right;\n",
       "    }\n",
       "</style>\n",
       "<table border=\"1\" class=\"dataframe\">\n",
       "  <thead>\n",
       "    <tr style=\"text-align: right;\">\n",
       "      <th></th>\n",
       "      <th>region</th>\n",
       "      <th>bedrooms</th>\n",
       "      <th>bathrooms</th>\n",
       "      <th>parkingSpaces</th>\n",
       "      <th>propertyType</th>\n",
       "      <th>price</th>\n",
       "      <th>price_per_bedroom</th>\n",
       "    </tr>\n",
       "  </thead>\n",
       "  <tbody>\n",
       "    <tr>\n",
       "      <td>0</td>\n",
       "      <td>bayside</td>\n",
       "      <td>2</td>\n",
       "      <td>1</td>\n",
       "      <td>1</td>\n",
       "      <td>apartment</td>\n",
       "      <td>610000.0</td>\n",
       "      <td>305000.000000</td>\n",
       "    </tr>\n",
       "    <tr>\n",
       "      <td>1</td>\n",
       "      <td>bayside</td>\n",
       "      <td>2</td>\n",
       "      <td>2</td>\n",
       "      <td>1</td>\n",
       "      <td>apartment</td>\n",
       "      <td>630000.0</td>\n",
       "      <td>315000.000000</td>\n",
       "    </tr>\n",
       "    <tr>\n",
       "      <td>2</td>\n",
       "      <td>bayside</td>\n",
       "      <td>2</td>\n",
       "      <td>1</td>\n",
       "      <td>2</td>\n",
       "      <td>apartment</td>\n",
       "      <td>620000.0</td>\n",
       "      <td>310000.000000</td>\n",
       "    </tr>\n",
       "    <tr>\n",
       "      <td>3</td>\n",
       "      <td>bayside</td>\n",
       "      <td>2</td>\n",
       "      <td>2</td>\n",
       "      <td>1</td>\n",
       "      <td>apartment</td>\n",
       "      <td>602500.0</td>\n",
       "      <td>301250.000000</td>\n",
       "    </tr>\n",
       "    <tr>\n",
       "      <td>4</td>\n",
       "      <td>bayside</td>\n",
       "      <td>1</td>\n",
       "      <td>1</td>\n",
       "      <td>1</td>\n",
       "      <td>apartment</td>\n",
       "      <td>365000.0</td>\n",
       "      <td>365000.000000</td>\n",
       "    </tr>\n",
       "    <tr>\n",
       "      <td>...</td>\n",
       "      <td>...</td>\n",
       "      <td>...</td>\n",
       "      <td>...</td>\n",
       "      <td>...</td>\n",
       "      <td>...</td>\n",
       "      <td>...</td>\n",
       "      <td>...</td>\n",
       "    </tr>\n",
       "    <tr>\n",
       "      <td>52219</td>\n",
       "      <td>north_west_melbourne</td>\n",
       "      <td>2</td>\n",
       "      <td>1</td>\n",
       "      <td>1</td>\n",
       "      <td>unit</td>\n",
       "      <td>376000.0</td>\n",
       "      <td>188000.000000</td>\n",
       "    </tr>\n",
       "    <tr>\n",
       "      <td>52220</td>\n",
       "      <td>north_west_melbourne</td>\n",
       "      <td>3</td>\n",
       "      <td>2</td>\n",
       "      <td>2</td>\n",
       "      <td>unit</td>\n",
       "      <td>530000.0</td>\n",
       "      <td>176666.666667</td>\n",
       "    </tr>\n",
       "    <tr>\n",
       "      <td>52221</td>\n",
       "      <td>south_east_melbourne</td>\n",
       "      <td>2</td>\n",
       "      <td>1</td>\n",
       "      <td>1</td>\n",
       "      <td>unit</td>\n",
       "      <td>378000.0</td>\n",
       "      <td>189000.000000</td>\n",
       "    </tr>\n",
       "    <tr>\n",
       "      <td>52222</td>\n",
       "      <td>south_east_melbourne</td>\n",
       "      <td>2</td>\n",
       "      <td>1</td>\n",
       "      <td>1</td>\n",
       "      <td>unit</td>\n",
       "      <td>362000.0</td>\n",
       "      <td>181000.000000</td>\n",
       "    </tr>\n",
       "    <tr>\n",
       "      <td>52223</td>\n",
       "      <td>south_east_melbourne</td>\n",
       "      <td>4</td>\n",
       "      <td>2</td>\n",
       "      <td>2</td>\n",
       "      <td>unit</td>\n",
       "      <td>640001.0</td>\n",
       "      <td>160000.250000</td>\n",
       "    </tr>\n",
       "  </tbody>\n",
       "</table>\n",
       "<p>52224 rows × 7 columns</p>\n",
       "</div>"
      ],
      "text/plain": [
       "                     region  bedrooms  bathrooms  parkingSpaces propertyType  \\\n",
       "0                   bayside         2          1              1    apartment   \n",
       "1                   bayside         2          2              1    apartment   \n",
       "2                   bayside         2          1              2    apartment   \n",
       "3                   bayside         2          2              1    apartment   \n",
       "4                   bayside         1          1              1    apartment   \n",
       "...                     ...       ...        ...            ...          ...   \n",
       "52219  north_west_melbourne         2          1              1         unit   \n",
       "52220  north_west_melbourne         3          2              2         unit   \n",
       "52221  south_east_melbourne         2          1              1         unit   \n",
       "52222  south_east_melbourne         2          1              1         unit   \n",
       "52223  south_east_melbourne         4          2              2         unit   \n",
       "\n",
       "          price  price_per_bedroom  \n",
       "0      610000.0      305000.000000  \n",
       "1      630000.0      315000.000000  \n",
       "2      620000.0      310000.000000  \n",
       "3      602500.0      301250.000000  \n",
       "4      365000.0      365000.000000  \n",
       "...         ...                ...  \n",
       "52219  376000.0      188000.000000  \n",
       "52220  530000.0      176666.666667  \n",
       "52221  378000.0      189000.000000  \n",
       "52222  362000.0      181000.000000  \n",
       "52223  640001.0      160000.250000  \n",
       "\n",
       "[52224 rows x 7 columns]"
      ]
     },
     "execution_count": 36,
     "metadata": {},
     "output_type": "execute_result"
    }
   ],
   "source": [
    "def remove_pps_outliers(df):\n",
    "    df_out= pd.DataFrame()\n",
    "    for key, subdf in df.groupby('propertyType'):\n",
    "        m=np.mean(subdf.price_per_bedroom)\n",
    "        st=np.std(subdf.price_per_bedroom)\n",
    "        reduced_df = subdf[(subdf.price_per_bedroom > (m-st)) & (subdf.price_per_bedroom < (m+st))]\n",
    "        df_out = pd.concat([df_out,reduced_df], ignore_index=True)\n",
    "    return df_out\n",
    "\n",
    "df9=remove_pps_outliers(df8)\n",
    "df9"
   ]
  },
  {
   "cell_type": "code",
   "execution_count": 37,
   "metadata": {},
   "outputs": [
    {
     "data": {
      "image/png": "[encoded data removed]",
      "text/plain": [
       "<Figure size 1440x360 with 1 Axes>"
      ]
     },
     "metadata": {
      "needs_background": "light"
     },
     "output_type": "display_data"
    }
   ],
   "source": [
    "def plot_scatter_chart(df,region):\n",
    "    \n",
    "    bhk2= df9[(df9.region==region) & (df9.bedrooms==2)]\n",
    "    bhk3= df9[(df9.region==region) & (df9.bedrooms==3)]\n",
    "    matplotlib.rcParams['figure.figsize'] = (20,5)\n",
    "    plt.scatter(bhk2.propertyType,bhk2.price,color='blue',label='2BHK',s=50)\n",
    "    plt.scatter(bhk3.propertyType,bhk3.price,marker='^',color='red',label='3BHK',s=50)\n",
    "    plt.xlabel(\"PropertyType\")\n",
    "    plt.ylabel(\"Price\")\n",
    "    plt.title(region)\n",
    "    plt.legend()\n",
    "    \n",
    "plot_scatter_chart(df9,\"melbourne___northern_region\")"
   ]
  },
  {
   "cell_type": "code",
   "execution_count": 38,
   "metadata": {},
   "outputs": [
    {
     "data": {
      "text/html": [
       "<div>\n",
       "<style scoped>\n",
       "    .dataframe tbody tr th:only-of-type {\n",
       "        vertical-align: middle;\n",
       "    }\n",
       "\n",
       "    .dataframe tbody tr th {\n",
       "        vertical-align: top;\n",
       "    }\n",
       "\n",
       "    .dataframe thead th {\n",
       "        text-align: right;\n",
       "    }\n",
       "</style>\n",
       "<table border=\"1\" class=\"dataframe\">\n",
       "  <thead>\n",
       "    <tr style=\"text-align: right;\">\n",
       "      <th></th>\n",
       "      <th>region</th>\n",
       "      <th>bedrooms</th>\n",
       "      <th>bathrooms</th>\n",
       "      <th>parkingSpaces</th>\n",
       "      <th>propertyType</th>\n",
       "      <th>price</th>\n",
       "      <th>price_per_bedroom</th>\n",
       "    </tr>\n",
       "  </thead>\n",
       "  <tbody>\n",
       "    <tr>\n",
       "      <td>15684</td>\n",
       "      <td>north_east_region</td>\n",
       "      <td>4</td>\n",
       "      <td>2</td>\n",
       "      <td>2</td>\n",
       "      <td>house</td>\n",
       "      <td>447500.0</td>\n",
       "      <td>111875.000000</td>\n",
       "    </tr>\n",
       "    <tr>\n",
       "      <td>15685</td>\n",
       "      <td>north_east_region</td>\n",
       "      <td>3</td>\n",
       "      <td>2</td>\n",
       "      <td>2</td>\n",
       "      <td>house</td>\n",
       "      <td>400000.0</td>\n",
       "      <td>133333.333333</td>\n",
       "    </tr>\n",
       "    <tr>\n",
       "      <td>15686</td>\n",
       "      <td>north_east_region</td>\n",
       "      <td>3</td>\n",
       "      <td>1</td>\n",
       "      <td>6</td>\n",
       "      <td>house</td>\n",
       "      <td>335000.0</td>\n",
       "      <td>111666.666667</td>\n",
       "    </tr>\n",
       "    <tr>\n",
       "      <td>15687</td>\n",
       "      <td>north_east_region</td>\n",
       "      <td>3</td>\n",
       "      <td>2</td>\n",
       "      <td>2</td>\n",
       "      <td>house</td>\n",
       "      <td>388000.0</td>\n",
       "      <td>129333.333333</td>\n",
       "    </tr>\n",
       "    <tr>\n",
       "      <td>15688</td>\n",
       "      <td>north_east_region</td>\n",
       "      <td>3</td>\n",
       "      <td>2</td>\n",
       "      <td>2</td>\n",
       "      <td>house</td>\n",
       "      <td>388000.0</td>\n",
       "      <td>129333.333333</td>\n",
       "    </tr>\n",
       "    <tr>\n",
       "      <td>...</td>\n",
       "      <td>...</td>\n",
       "      <td>...</td>\n",
       "      <td>...</td>\n",
       "      <td>...</td>\n",
       "      <td>...</td>\n",
       "      <td>...</td>\n",
       "      <td>...</td>\n",
       "    </tr>\n",
       "    <tr>\n",
       "      <td>20889</td>\n",
       "      <td>north_east_region</td>\n",
       "      <td>3</td>\n",
       "      <td>2</td>\n",
       "      <td>2</td>\n",
       "      <td>house</td>\n",
       "      <td>388000.0</td>\n",
       "      <td>129333.333333</td>\n",
       "    </tr>\n",
       "    <tr>\n",
       "      <td>20890</td>\n",
       "      <td>north_east_region</td>\n",
       "      <td>3</td>\n",
       "      <td>2</td>\n",
       "      <td>2</td>\n",
       "      <td>house</td>\n",
       "      <td>388000.0</td>\n",
       "      <td>129333.333333</td>\n",
       "    </tr>\n",
       "    <tr>\n",
       "      <td>20891</td>\n",
       "      <td>north_east_region</td>\n",
       "      <td>3</td>\n",
       "      <td>2</td>\n",
       "      <td>2</td>\n",
       "      <td>house</td>\n",
       "      <td>388000.0</td>\n",
       "      <td>129333.333333</td>\n",
       "    </tr>\n",
       "    <tr>\n",
       "      <td>20892</td>\n",
       "      <td>north_east_region</td>\n",
       "      <td>3</td>\n",
       "      <td>2</td>\n",
       "      <td>2</td>\n",
       "      <td>house</td>\n",
       "      <td>388000.0</td>\n",
       "      <td>129333.333333</td>\n",
       "    </tr>\n",
       "    <tr>\n",
       "      <td>20893</td>\n",
       "      <td>north_east_region</td>\n",
       "      <td>3</td>\n",
       "      <td>2</td>\n",
       "      <td>2</td>\n",
       "      <td>house</td>\n",
       "      <td>388000.0</td>\n",
       "      <td>129333.333333</td>\n",
       "    </tr>\n",
       "  </tbody>\n",
       "</table>\n",
       "<p>5210 rows × 7 columns</p>\n",
       "</div>"
      ],
      "text/plain": [
       "                  region  bedrooms  bathrooms  parkingSpaces propertyType  \\\n",
       "15684  north_east_region         4          2              2        house   \n",
       "15685  north_east_region         3          2              2        house   \n",
       "15686  north_east_region         3          1              6        house   \n",
       "15687  north_east_region         3          2              2        house   \n",
       "15688  north_east_region         3          2              2        house   \n",
       "...                  ...       ...        ...            ...          ...   \n",
       "20889  north_east_region         3          2              2        house   \n",
       "20890  north_east_region         3          2              2        house   \n",
       "20891  north_east_region         3          2              2        house   \n",
       "20892  north_east_region         3          2              2        house   \n",
       "20893  north_east_region         3          2              2        house   \n",
       "\n",
       "          price  price_per_bedroom  \n",
       "15684  447500.0      111875.000000  \n",
       "15685  400000.0      133333.333333  \n",
       "15686  335000.0      111666.666667  \n",
       "15687  388000.0      129333.333333  \n",
       "15688  388000.0      129333.333333  \n",
       "...         ...                ...  \n",
       "20889  388000.0      129333.333333  \n",
       "20890  388000.0      129333.333333  \n",
       "20891  388000.0      129333.333333  \n",
       "20892  388000.0      129333.333333  \n",
       "20893  388000.0      129333.333333  \n",
       "\n",
       "[5210 rows x 7 columns]"
      ]
     },
     "execution_count": 38,
     "metadata": {},
     "output_type": "execute_result"
    }
   ],
   "source": [
    "df9[df9.region==\"north_east_region\"]"
   ]
  },
  {
   "cell_type": "code",
   "execution_count": 39,
   "metadata": {},
   "outputs": [
    {
     "name": "stdout",
     "output_type": "stream",
     "text": [
      "apartment\n",
      "295011.0008628128\n",
      "house\n",
      "127793.59464831128\n",
      "townhouse\n",
      "153338.51567499165\n",
      "unit\n",
      "178015.9445775818\n"
     ]
    }
   ],
   "source": [
    "grp1=df9.groupby(\"propertyType\")\n",
    "grp1\n",
    "for propertyType, property_df in grp1:\n",
    "    print(propertyType)\n",
    "    print(property_df[\"price_per_bedroom\"].mean())"
   ]
  },
  {
   "cell_type": "code",
   "execution_count": 40,
   "metadata": {},
   "outputs": [
    {
     "data": {
      "image/png": "[encoded data removed]",
      "text/plain": [
       "<Figure size 720x360 with 1 Axes>"
      ]
     },
     "metadata": {
      "needs_background": "light"
     },
     "output_type": "display_data"
    },
    {
     "name": "stdout",
     "output_type": "stream",
     "text": [
      "['apartment' 'house' 'townhouse' 'unit']\n",
      "[295011.0008628128, 127793.59464831128, 153338.51567499165, 178015.9445775818]\n"
     ]
    }
   ],
   "source": [
    "matplotlib.rcParams[\"figure.figsize\"] = (10,5)\n",
    "x=df9.propertyType.unique()\n",
    "y=[]\n",
    "for propertyType, property_df in grp1:\n",
    "    y.append(property_df[\"price_per_bedroom\"].mean())\n",
    "plt.bar(x,y)\n",
    "plt.xlabel('x')\n",
    "plt.ylabel('y')\n",
    "plt.title(\"Mean Pricing\")\n",
    "plt.show()\n",
    "print(x)\n",
    "print(y)"
   ]
  },
  {
   "cell_type": "code",
   "execution_count": 41,
   "metadata": {},
   "outputs": [
    {
     "data": {
      "text/html": [
       "<div>\n",
       "<style scoped>\n",
       "    .dataframe tbody tr th:only-of-type {\n",
       "        vertical-align: middle;\n",
       "    }\n",
       "\n",
       "    .dataframe tbody tr th {\n",
       "        vertical-align: top;\n",
       "    }\n",
       "\n",
       "    .dataframe thead th {\n",
       "        text-align: right;\n",
       "    }\n",
       "</style>\n",
       "<table border=\"1\" class=\"dataframe\">\n",
       "  <thead>\n",
       "    <tr style=\"text-align: right;\">\n",
       "      <th></th>\n",
       "      <th>bedrooms</th>\n",
       "      <th>bathrooms</th>\n",
       "      <th>parkingSpaces</th>\n",
       "      <th>propertyType</th>\n",
       "      <th>price</th>\n",
       "      <th>price_per_bedroom</th>\n",
       "    </tr>\n",
       "  </thead>\n",
       "  <tbody>\n",
       "    <tr>\n",
       "      <td>0</td>\n",
       "      <td>2</td>\n",
       "      <td>1</td>\n",
       "      <td>1</td>\n",
       "      <td>apartment</td>\n",
       "      <td>610000.0</td>\n",
       "      <td>305000.000000</td>\n",
       "    </tr>\n",
       "    <tr>\n",
       "      <td>1</td>\n",
       "      <td>2</td>\n",
       "      <td>2</td>\n",
       "      <td>1</td>\n",
       "      <td>apartment</td>\n",
       "      <td>630000.0</td>\n",
       "      <td>315000.000000</td>\n",
       "    </tr>\n",
       "    <tr>\n",
       "      <td>2</td>\n",
       "      <td>2</td>\n",
       "      <td>1</td>\n",
       "      <td>2</td>\n",
       "      <td>apartment</td>\n",
       "      <td>620000.0</td>\n",
       "      <td>310000.000000</td>\n",
       "    </tr>\n",
       "    <tr>\n",
       "      <td>3</td>\n",
       "      <td>2</td>\n",
       "      <td>2</td>\n",
       "      <td>1</td>\n",
       "      <td>apartment</td>\n",
       "      <td>602500.0</td>\n",
       "      <td>301250.000000</td>\n",
       "    </tr>\n",
       "    <tr>\n",
       "      <td>4</td>\n",
       "      <td>1</td>\n",
       "      <td>1</td>\n",
       "      <td>1</td>\n",
       "      <td>apartment</td>\n",
       "      <td>365000.0</td>\n",
       "      <td>365000.000000</td>\n",
       "    </tr>\n",
       "    <tr>\n",
       "      <td>...</td>\n",
       "      <td>...</td>\n",
       "      <td>...</td>\n",
       "      <td>...</td>\n",
       "      <td>...</td>\n",
       "      <td>...</td>\n",
       "      <td>...</td>\n",
       "    </tr>\n",
       "    <tr>\n",
       "      <td>52219</td>\n",
       "      <td>2</td>\n",
       "      <td>1</td>\n",
       "      <td>1</td>\n",
       "      <td>unit</td>\n",
       "      <td>376000.0</td>\n",
       "      <td>188000.000000</td>\n",
       "    </tr>\n",
       "    <tr>\n",
       "      <td>52220</td>\n",
       "      <td>3</td>\n",
       "      <td>2</td>\n",
       "      <td>2</td>\n",
       "      <td>unit</td>\n",
       "      <td>530000.0</td>\n",
       "      <td>176666.666667</td>\n",
       "    </tr>\n",
       "    <tr>\n",
       "      <td>52221</td>\n",
       "      <td>2</td>\n",
       "      <td>1</td>\n",
       "      <td>1</td>\n",
       "      <td>unit</td>\n",
       "      <td>378000.0</td>\n",
       "      <td>189000.000000</td>\n",
       "    </tr>\n",
       "    <tr>\n",
       "      <td>52222</td>\n",
       "      <td>2</td>\n",
       "      <td>1</td>\n",
       "      <td>1</td>\n",
       "      <td>unit</td>\n",
       "      <td>362000.0</td>\n",
       "      <td>181000.000000</td>\n",
       "    </tr>\n",
       "    <tr>\n",
       "      <td>52223</td>\n",
       "      <td>4</td>\n",
       "      <td>2</td>\n",
       "      <td>2</td>\n",
       "      <td>unit</td>\n",
       "      <td>640001.0</td>\n",
       "      <td>160000.250000</td>\n",
       "    </tr>\n",
       "  </tbody>\n",
       "</table>\n",
       "<p>52224 rows × 6 columns</p>\n",
       "</div>"
      ],
      "text/plain": [
       "       bedrooms  bathrooms  parkingSpaces propertyType     price  \\\n",
       "0             2          1              1    apartment  610000.0   \n",
       "1             2          2              1    apartment  630000.0   \n",
       "2             2          1              2    apartment  620000.0   \n",
       "3             2          2              1    apartment  602500.0   \n",
       "4             1          1              1    apartment  365000.0   \n",
       "...         ...        ...            ...          ...       ...   \n",
       "52219         2          1              1         unit  376000.0   \n",
       "52220         3          2              2         unit  530000.0   \n",
       "52221         2          1              1         unit  378000.0   \n",
       "52222         2          1              1         unit  362000.0   \n",
       "52223         4          2              2         unit  640001.0   \n",
       "\n",
       "       price_per_bedroom  \n",
       "0          305000.000000  \n",
       "1          315000.000000  \n",
       "2          310000.000000  \n",
       "3          301250.000000  \n",
       "4          365000.000000  \n",
       "...                  ...  \n",
       "52219      188000.000000  \n",
       "52220      176666.666667  \n",
       "52221      189000.000000  \n",
       "52222      181000.000000  \n",
       "52223      160000.250000  \n",
       "\n",
       "[52224 rows x 6 columns]"
      ]
     },
     "execution_count": 41,
     "metadata": {},
     "output_type": "execute_result"
    }
   ],
   "source": [
    "df10=df9.drop([\"region\"], axis='columns')\n",
    "df10"
   ]
  },
  {
   "cell_type": "code",
   "execution_count": 42,
   "metadata": {},
   "outputs": [
    {
     "data": {
      "text/plain": [
       "propertyType\n",
       "apartment    10431\n",
       "house        31367\n",
       "townhouse     5210\n",
       "unit          5216\n",
       "Name: propertyType, dtype: int64"
      ]
     },
     "execution_count": 42,
     "metadata": {},
     "output_type": "execute_result"
    }
   ],
   "source": [
    "df10.groupby('propertyType')['propertyType'].agg('count')"
   ]
  },
  {
   "cell_type": "code",
   "execution_count": 43,
   "metadata": {},
   "outputs": [
    {
     "data": {
      "text/html": [
       "<div>\n",
       "<style scoped>\n",
       "    .dataframe tbody tr th:only-of-type {\n",
       "        vertical-align: middle;\n",
       "    }\n",
       "\n",
       "    .dataframe tbody tr th {\n",
       "        vertical-align: top;\n",
       "    }\n",
       "\n",
       "    .dataframe thead th {\n",
       "        text-align: right;\n",
       "    }\n",
       "</style>\n",
       "<table border=\"1\" class=\"dataframe\">\n",
       "  <thead>\n",
       "    <tr style=\"text-align: right;\">\n",
       "      <th></th>\n",
       "      <th>apartment</th>\n",
       "      <th>house</th>\n",
       "      <th>townhouse</th>\n",
       "      <th>unit</th>\n",
       "    </tr>\n",
       "  </thead>\n",
       "  <tbody>\n",
       "    <tr>\n",
       "      <td>0</td>\n",
       "      <td>1</td>\n",
       "      <td>0</td>\n",
       "      <td>0</td>\n",
       "      <td>0</td>\n",
       "    </tr>\n",
       "    <tr>\n",
       "      <td>1</td>\n",
       "      <td>1</td>\n",
       "      <td>0</td>\n",
       "      <td>0</td>\n",
       "      <td>0</td>\n",
       "    </tr>\n",
       "    <tr>\n",
       "      <td>2</td>\n",
       "      <td>1</td>\n",
       "      <td>0</td>\n",
       "      <td>0</td>\n",
       "      <td>0</td>\n",
       "    </tr>\n",
       "  </tbody>\n",
       "</table>\n",
       "</div>"
      ],
      "text/plain": [
       "   apartment  house  townhouse  unit\n",
       "0          1      0          0     0\n",
       "1          1      0          0     0\n",
       "2          1      0          0     0"
      ]
     },
     "execution_count": 43,
     "metadata": {},
     "output_type": "execute_result"
    }
   ],
   "source": [
    "dummies = pd.get_dummies(df10.propertyType)\n",
    "dummies.head(3)"
   ]
  },
  {
   "cell_type": "code",
   "execution_count": 44,
   "metadata": {},
   "outputs": [
    {
     "data": {
      "text/html": [
       "<div>\n",
       "<style scoped>\n",
       "    .dataframe tbody tr th:only-of-type {\n",
       "        vertical-align: middle;\n",
       "    }\n",
       "\n",
       "    .dataframe tbody tr th {\n",
       "        vertical-align: top;\n",
       "    }\n",
       "\n",
       "    .dataframe thead th {\n",
       "        text-align: right;\n",
       "    }\n",
       "</style>\n",
       "<table border=\"1\" class=\"dataframe\">\n",
       "  <thead>\n",
       "    <tr style=\"text-align: right;\">\n",
       "      <th></th>\n",
       "      <th>bedrooms</th>\n",
       "      <th>bathrooms</th>\n",
       "      <th>parkingSpaces</th>\n",
       "      <th>propertyType</th>\n",
       "      <th>price</th>\n",
       "      <th>price_per_bedroom</th>\n",
       "      <th>apartment</th>\n",
       "      <th>house</th>\n",
       "      <th>townhouse</th>\n",
       "      <th>unit</th>\n",
       "    </tr>\n",
       "  </thead>\n",
       "  <tbody>\n",
       "    <tr>\n",
       "      <td>0</td>\n",
       "      <td>2</td>\n",
       "      <td>1</td>\n",
       "      <td>1</td>\n",
       "      <td>apartment</td>\n",
       "      <td>610000.0</td>\n",
       "      <td>305000.000000</td>\n",
       "      <td>1</td>\n",
       "      <td>0</td>\n",
       "      <td>0</td>\n",
       "      <td>0</td>\n",
       "    </tr>\n",
       "    <tr>\n",
       "      <td>1</td>\n",
       "      <td>2</td>\n",
       "      <td>2</td>\n",
       "      <td>1</td>\n",
       "      <td>apartment</td>\n",
       "      <td>630000.0</td>\n",
       "      <td>315000.000000</td>\n",
       "      <td>1</td>\n",
       "      <td>0</td>\n",
       "      <td>0</td>\n",
       "      <td>0</td>\n",
       "    </tr>\n",
       "    <tr>\n",
       "      <td>2</td>\n",
       "      <td>2</td>\n",
       "      <td>1</td>\n",
       "      <td>2</td>\n",
       "      <td>apartment</td>\n",
       "      <td>620000.0</td>\n",
       "      <td>310000.000000</td>\n",
       "      <td>1</td>\n",
       "      <td>0</td>\n",
       "      <td>0</td>\n",
       "      <td>0</td>\n",
       "    </tr>\n",
       "    <tr>\n",
       "      <td>3</td>\n",
       "      <td>2</td>\n",
       "      <td>2</td>\n",
       "      <td>1</td>\n",
       "      <td>apartment</td>\n",
       "      <td>602500.0</td>\n",
       "      <td>301250.000000</td>\n",
       "      <td>1</td>\n",
       "      <td>0</td>\n",
       "      <td>0</td>\n",
       "      <td>0</td>\n",
       "    </tr>\n",
       "    <tr>\n",
       "      <td>4</td>\n",
       "      <td>1</td>\n",
       "      <td>1</td>\n",
       "      <td>1</td>\n",
       "      <td>apartment</td>\n",
       "      <td>365000.0</td>\n",
       "      <td>365000.000000</td>\n",
       "      <td>1</td>\n",
       "      <td>0</td>\n",
       "      <td>0</td>\n",
       "      <td>0</td>\n",
       "    </tr>\n",
       "    <tr>\n",
       "      <td>...</td>\n",
       "      <td>...</td>\n",
       "      <td>...</td>\n",
       "      <td>...</td>\n",
       "      <td>...</td>\n",
       "      <td>...</td>\n",
       "      <td>...</td>\n",
       "      <td>...</td>\n",
       "      <td>...</td>\n",
       "      <td>...</td>\n",
       "      <td>...</td>\n",
       "    </tr>\n",
       "    <tr>\n",
       "      <td>52219</td>\n",
       "      <td>2</td>\n",
       "      <td>1</td>\n",
       "      <td>1</td>\n",
       "      <td>unit</td>\n",
       "      <td>376000.0</td>\n",
       "      <td>188000.000000</td>\n",
       "      <td>0</td>\n",
       "      <td>0</td>\n",
       "      <td>0</td>\n",
       "      <td>1</td>\n",
       "    </tr>\n",
       "    <tr>\n",
       "      <td>52220</td>\n",
       "      <td>3</td>\n",
       "      <td>2</td>\n",
       "      <td>2</td>\n",
       "      <td>unit</td>\n",
       "      <td>530000.0</td>\n",
       "      <td>176666.666667</td>\n",
       "      <td>0</td>\n",
       "      <td>0</td>\n",
       "      <td>0</td>\n",
       "      <td>1</td>\n",
       "    </tr>\n",
       "    <tr>\n",
       "      <td>52221</td>\n",
       "      <td>2</td>\n",
       "      <td>1</td>\n",
       "      <td>1</td>\n",
       "      <td>unit</td>\n",
       "      <td>378000.0</td>\n",
       "      <td>189000.000000</td>\n",
       "      <td>0</td>\n",
       "      <td>0</td>\n",
       "      <td>0</td>\n",
       "      <td>1</td>\n",
       "    </tr>\n",
       "    <tr>\n",
       "      <td>52222</td>\n",
       "      <td>2</td>\n",
       "      <td>1</td>\n",
       "      <td>1</td>\n",
       "      <td>unit</td>\n",
       "      <td>362000.0</td>\n",
       "      <td>181000.000000</td>\n",
       "      <td>0</td>\n",
       "      <td>0</td>\n",
       "      <td>0</td>\n",
       "      <td>1</td>\n",
       "    </tr>\n",
       "    <tr>\n",
       "      <td>52223</td>\n",
       "      <td>4</td>\n",
       "      <td>2</td>\n",
       "      <td>2</td>\n",
       "      <td>unit</td>\n",
       "      <td>640001.0</td>\n",
       "      <td>160000.250000</td>\n",
       "      <td>0</td>\n",
       "      <td>0</td>\n",
       "      <td>0</td>\n",
       "      <td>1</td>\n",
       "    </tr>\n",
       "  </tbody>\n",
       "</table>\n",
       "<p>52224 rows × 10 columns</p>\n",
       "</div>"
      ],
      "text/plain": [
       "       bedrooms  bathrooms  parkingSpaces propertyType     price  \\\n",
       "0             2          1              1    apartment  610000.0   \n",
       "1             2          2              1    apartment  630000.0   \n",
       "2             2          1              2    apartment  620000.0   \n",
       "3             2          2              1    apartment  602500.0   \n",
       "4             1          1              1    apartment  365000.0   \n",
       "...         ...        ...            ...          ...       ...   \n",
       "52219         2          1              1         unit  376000.0   \n",
       "52220         3          2              2         unit  530000.0   \n",
       "52221         2          1              1         unit  378000.0   \n",
       "52222         2          1              1         unit  362000.0   \n",
       "52223         4          2              2         unit  640001.0   \n",
       "\n",
       "       price_per_bedroom  apartment  house  townhouse  unit  \n",
       "0          305000.000000          1      0          0     0  \n",
       "1          315000.000000          1      0          0     0  \n",
       "2          310000.000000          1      0          0     0  \n",
       "3          301250.000000          1      0          0     0  \n",
       "4          365000.000000          1      0          0     0  \n",
       "...                  ...        ...    ...        ...   ...  \n",
       "52219      188000.000000          0      0          0     1  \n",
       "52220      176666.666667          0      0          0     1  \n",
       "52221      189000.000000          0      0          0     1  \n",
       "52222      181000.000000          0      0          0     1  \n",
       "52223      160000.250000          0      0          0     1  \n",
       "\n",
       "[52224 rows x 10 columns]"
      ]
     },
     "execution_count": 44,
     "metadata": {},
     "output_type": "execute_result"
    }
   ],
   "source": [
    "df10 = pd.concat([df10,dummies],axis='columns')\n",
    "df10"
   ]
  },
  {
   "cell_type": "code",
   "execution_count": 45,
   "metadata": {},
   "outputs": [
    {
     "data": {
      "text/html": [
       "<div>\n",
       "<style scoped>\n",
       "    .dataframe tbody tr th:only-of-type {\n",
       "        vertical-align: middle;\n",
       "    }\n",
       "\n",
       "    .dataframe tbody tr th {\n",
       "        vertical-align: top;\n",
       "    }\n",
       "\n",
       "    .dataframe thead th {\n",
       "        text-align: right;\n",
       "    }\n",
       "</style>\n",
       "<table border=\"1\" class=\"dataframe\">\n",
       "  <thead>\n",
       "    <tr style=\"text-align: right;\">\n",
       "      <th></th>\n",
       "      <th>bedrooms</th>\n",
       "      <th>bathrooms</th>\n",
       "      <th>parkingSpaces</th>\n",
       "      <th>price</th>\n",
       "      <th>apartment</th>\n",
       "      <th>house</th>\n",
       "      <th>townhouse</th>\n",
       "      <th>unit</th>\n",
       "    </tr>\n",
       "  </thead>\n",
       "  <tbody>\n",
       "    <tr>\n",
       "      <td>0</td>\n",
       "      <td>2</td>\n",
       "      <td>1</td>\n",
       "      <td>1</td>\n",
       "      <td>610000.0</td>\n",
       "      <td>1</td>\n",
       "      <td>0</td>\n",
       "      <td>0</td>\n",
       "      <td>0</td>\n",
       "    </tr>\n",
       "    <tr>\n",
       "      <td>1</td>\n",
       "      <td>2</td>\n",
       "      <td>2</td>\n",
       "      <td>1</td>\n",
       "      <td>630000.0</td>\n",
       "      <td>1</td>\n",
       "      <td>0</td>\n",
       "      <td>0</td>\n",
       "      <td>0</td>\n",
       "    </tr>\n",
       "    <tr>\n",
       "      <td>2</td>\n",
       "      <td>2</td>\n",
       "      <td>1</td>\n",
       "      <td>2</td>\n",
       "      <td>620000.0</td>\n",
       "      <td>1</td>\n",
       "      <td>0</td>\n",
       "      <td>0</td>\n",
       "      <td>0</td>\n",
       "    </tr>\n",
       "    <tr>\n",
       "      <td>3</td>\n",
       "      <td>2</td>\n",
       "      <td>2</td>\n",
       "      <td>1</td>\n",
       "      <td>602500.0</td>\n",
       "      <td>1</td>\n",
       "      <td>0</td>\n",
       "      <td>0</td>\n",
       "      <td>0</td>\n",
       "    </tr>\n",
       "    <tr>\n",
       "      <td>4</td>\n",
       "      <td>1</td>\n",
       "      <td>1</td>\n",
       "      <td>1</td>\n",
       "      <td>365000.0</td>\n",
       "      <td>1</td>\n",
       "      <td>0</td>\n",
       "      <td>0</td>\n",
       "      <td>0</td>\n",
       "    </tr>\n",
       "    <tr>\n",
       "      <td>...</td>\n",
       "      <td>...</td>\n",
       "      <td>...</td>\n",
       "      <td>...</td>\n",
       "      <td>...</td>\n",
       "      <td>...</td>\n",
       "      <td>...</td>\n",
       "      <td>...</td>\n",
       "      <td>...</td>\n",
       "    </tr>\n",
       "    <tr>\n",
       "      <td>52219</td>\n",
       "      <td>2</td>\n",
       "      <td>1</td>\n",
       "      <td>1</td>\n",
       "      <td>376000.0</td>\n",
       "      <td>0</td>\n",
       "      <td>0</td>\n",
       "      <td>0</td>\n",
       "      <td>1</td>\n",
       "    </tr>\n",
       "    <tr>\n",
       "      <td>52220</td>\n",
       "      <td>3</td>\n",
       "      <td>2</td>\n",
       "      <td>2</td>\n",
       "      <td>530000.0</td>\n",
       "      <td>0</td>\n",
       "      <td>0</td>\n",
       "      <td>0</td>\n",
       "      <td>1</td>\n",
       "    </tr>\n",
       "    <tr>\n",
       "      <td>52221</td>\n",
       "      <td>2</td>\n",
       "      <td>1</td>\n",
       "      <td>1</td>\n",
       "      <td>378000.0</td>\n",
       "      <td>0</td>\n",
       "      <td>0</td>\n",
       "      <td>0</td>\n",
       "      <td>1</td>\n",
       "    </tr>\n",
       "    <tr>\n",
       "      <td>52222</td>\n",
       "      <td>2</td>\n",
       "      <td>1</td>\n",
       "      <td>1</td>\n",
       "      <td>362000.0</td>\n",
       "      <td>0</td>\n",
       "      <td>0</td>\n",
       "      <td>0</td>\n",
       "      <td>1</td>\n",
       "    </tr>\n",
       "    <tr>\n",
       "      <td>52223</td>\n",
       "      <td>4</td>\n",
       "      <td>2</td>\n",
       "      <td>2</td>\n",
       "      <td>640001.0</td>\n",
       "      <td>0</td>\n",
       "      <td>0</td>\n",
       "      <td>0</td>\n",
       "      <td>1</td>\n",
       "    </tr>\n",
       "  </tbody>\n",
       "</table>\n",
       "<p>52224 rows × 8 columns</p>\n",
       "</div>"
      ],
      "text/plain": [
       "       bedrooms  bathrooms  parkingSpaces     price  apartment  house  \\\n",
       "0             2          1              1  610000.0          1      0   \n",
       "1             2          2              1  630000.0          1      0   \n",
       "2             2          1              2  620000.0          1      0   \n",
       "3             2          2              1  602500.0          1      0   \n",
       "4             1          1              1  365000.0          1      0   \n",
       "...         ...        ...            ...       ...        ...    ...   \n",
       "52219         2          1              1  376000.0          0      0   \n",
       "52220         3          2              2  530000.0          0      0   \n",
       "52221         2          1              1  378000.0          0      0   \n",
       "52222         2          1              1  362000.0          0      0   \n",
       "52223         4          2              2  640001.0          0      0   \n",
       "\n",
       "       townhouse  unit  \n",
       "0              0     0  \n",
       "1              0     0  \n",
       "2              0     0  \n",
       "3              0     0  \n",
       "4              0     0  \n",
       "...          ...   ...  \n",
       "52219          0     1  \n",
       "52220          0     1  \n",
       "52221          0     1  \n",
       "52222          0     1  \n",
       "52223          0     1  \n",
       "\n",
       "[52224 rows x 8 columns]"
      ]
     },
     "execution_count": 45,
     "metadata": {},
     "output_type": "execute_result"
    }
   ],
   "source": [
    "df11=df10.drop([\"price_per_bedroom\",\"propertyType\"], axis='columns')\n",
    "df11"
   ]
  },
  {
   "cell_type": "code",
   "execution_count": 46,
   "metadata": {},
   "outputs": [
    {
     "data": {
      "text/plain": [
       "<matplotlib.axes._subplots.AxesSubplot at 0x236d2d4bb48>"
      ]
     },
     "execution_count": 46,
     "metadata": {},
     "output_type": "execute_result"
    },
    {
     "data": {
      "image/png": "[encoded data removed]",
      "text/plain": [
       "<Figure size 720x360 with 2 Axes>"
      ]
     },
     "metadata": {
      "needs_background": "light"
     },
     "output_type": "display_data"
    }
   ],
   "source": [
    "import seaborn as sns\n",
    "df_oh = pd.DataFrame(df11, columns = df11.columns)\n",
    "\n",
    "correlation_matrix = df_oh.corr().round(2)\n",
    "sns.heatmap(data=correlation_matrix, annot=True)"
   ]
  },
  {
   "cell_type": "code",
   "execution_count": 47,
   "metadata": {},
   "outputs": [
    {
     "data": {
      "text/html": [
       "<div>\n",
       "<style scoped>\n",
       "    .dataframe tbody tr th:only-of-type {\n",
       "        vertical-align: middle;\n",
       "    }\n",
       "\n",
       "    .dataframe tbody tr th {\n",
       "        vertical-align: top;\n",
       "    }\n",
       "\n",
       "    .dataframe thead th {\n",
       "        text-align: right;\n",
       "    }\n",
       "</style>\n",
       "<table border=\"1\" class=\"dataframe\">\n",
       "  <thead>\n",
       "    <tr style=\"text-align: right;\">\n",
       "      <th></th>\n",
       "      <th>bedrooms</th>\n",
       "      <th>bathrooms</th>\n",
       "      <th>parkingSpaces</th>\n",
       "      <th>apartment</th>\n",
       "      <th>house</th>\n",
       "      <th>townhouse</th>\n",
       "      <th>unit</th>\n",
       "      <th>price</th>\n",
       "    </tr>\n",
       "  </thead>\n",
       "  <tbody>\n",
       "    <tr>\n",
       "      <td>0</td>\n",
       "      <td>2</td>\n",
       "      <td>1</td>\n",
       "      <td>1</td>\n",
       "      <td>1</td>\n",
       "      <td>0</td>\n",
       "      <td>0</td>\n",
       "      <td>0</td>\n",
       "      <td>610000.0</td>\n",
       "    </tr>\n",
       "    <tr>\n",
       "      <td>1</td>\n",
       "      <td>2</td>\n",
       "      <td>2</td>\n",
       "      <td>1</td>\n",
       "      <td>1</td>\n",
       "      <td>0</td>\n",
       "      <td>0</td>\n",
       "      <td>0</td>\n",
       "      <td>630000.0</td>\n",
       "    </tr>\n",
       "    <tr>\n",
       "      <td>2</td>\n",
       "      <td>2</td>\n",
       "      <td>1</td>\n",
       "      <td>2</td>\n",
       "      <td>1</td>\n",
       "      <td>0</td>\n",
       "      <td>0</td>\n",
       "      <td>0</td>\n",
       "      <td>620000.0</td>\n",
       "    </tr>\n",
       "    <tr>\n",
       "      <td>3</td>\n",
       "      <td>2</td>\n",
       "      <td>2</td>\n",
       "      <td>1</td>\n",
       "      <td>1</td>\n",
       "      <td>0</td>\n",
       "      <td>0</td>\n",
       "      <td>0</td>\n",
       "      <td>602500.0</td>\n",
       "    </tr>\n",
       "    <tr>\n",
       "      <td>4</td>\n",
       "      <td>1</td>\n",
       "      <td>1</td>\n",
       "      <td>1</td>\n",
       "      <td>1</td>\n",
       "      <td>0</td>\n",
       "      <td>0</td>\n",
       "      <td>0</td>\n",
       "      <td>365000.0</td>\n",
       "    </tr>\n",
       "    <tr>\n",
       "      <td>...</td>\n",
       "      <td>...</td>\n",
       "      <td>...</td>\n",
       "      <td>...</td>\n",
       "      <td>...</td>\n",
       "      <td>...</td>\n",
       "      <td>...</td>\n",
       "      <td>...</td>\n",
       "      <td>...</td>\n",
       "    </tr>\n",
       "    <tr>\n",
       "      <td>52219</td>\n",
       "      <td>2</td>\n",
       "      <td>1</td>\n",
       "      <td>1</td>\n",
       "      <td>0</td>\n",
       "      <td>0</td>\n",
       "      <td>0</td>\n",
       "      <td>1</td>\n",
       "      <td>376000.0</td>\n",
       "    </tr>\n",
       "    <tr>\n",
       "      <td>52220</td>\n",
       "      <td>3</td>\n",
       "      <td>2</td>\n",
       "      <td>2</td>\n",
       "      <td>0</td>\n",
       "      <td>0</td>\n",
       "      <td>0</td>\n",
       "      <td>1</td>\n",
       "      <td>530000.0</td>\n",
       "    </tr>\n",
       "    <tr>\n",
       "      <td>52221</td>\n",
       "      <td>2</td>\n",
       "      <td>1</td>\n",
       "      <td>1</td>\n",
       "      <td>0</td>\n",
       "      <td>0</td>\n",
       "      <td>0</td>\n",
       "      <td>1</td>\n",
       "      <td>378000.0</td>\n",
       "    </tr>\n",
       "    <tr>\n",
       "      <td>52222</td>\n",
       "      <td>2</td>\n",
       "      <td>1</td>\n",
       "      <td>1</td>\n",
       "      <td>0</td>\n",
       "      <td>0</td>\n",
       "      <td>0</td>\n",
       "      <td>1</td>\n",
       "      <td>362000.0</td>\n",
       "    </tr>\n",
       "    <tr>\n",
       "      <td>52223</td>\n",
       "      <td>4</td>\n",
       "      <td>2</td>\n",
       "      <td>2</td>\n",
       "      <td>0</td>\n",
       "      <td>0</td>\n",
       "      <td>0</td>\n",
       "      <td>1</td>\n",
       "      <td>640001.0</td>\n",
       "    </tr>\n",
       "  </tbody>\n",
       "</table>\n",
       "<p>52224 rows × 8 columns</p>\n",
       "</div>"
      ],
      "text/plain": [
       "       bedrooms  bathrooms  parkingSpaces  apartment  house  townhouse  unit  \\\n",
       "0             2          1              1          1      0          0     0   \n",
       "1             2          2              1          1      0          0     0   \n",
       "2             2          1              2          1      0          0     0   \n",
       "3             2          2              1          1      0          0     0   \n",
       "4             1          1              1          1      0          0     0   \n",
       "...         ...        ...            ...        ...    ...        ...   ...   \n",
       "52219         2          1              1          0      0          0     1   \n",
       "52220         3          2              2          0      0          0     1   \n",
       "52221         2          1              1          0      0          0     1   \n",
       "52222         2          1              1          0      0          0     1   \n",
       "52223         4          2              2          0      0          0     1   \n",
       "\n",
       "          price  \n",
       "0      610000.0  \n",
       "1      630000.0  \n",
       "2      620000.0  \n",
       "3      602500.0  \n",
       "4      365000.0  \n",
       "...         ...  \n",
       "52219  376000.0  \n",
       "52220  530000.0  \n",
       "52221  378000.0  \n",
       "52222  362000.0  \n",
       "52223  640001.0  \n",
       "\n",
       "[52224 rows x 8 columns]"
      ]
     },
     "execution_count": 47,
     "metadata": {},
     "output_type": "execute_result"
    }
   ],
   "source": [
    "cols = list(df11.columns)\n",
    "cols.pop(cols.index('price'))\n",
    "df11 = df11[cols+['price']]\n",
    "df11"
   ]
  },
  {
   "cell_type": "code",
   "execution_count": 48,
   "metadata": {},
   "outputs": [
    {
     "data": {
      "text/html": [
       "<div>\n",
       "<style scoped>\n",
       "    .dataframe tbody tr th:only-of-type {\n",
       "        vertical-align: middle;\n",
       "    }\n",
       "\n",
       "    .dataframe tbody tr th {\n",
       "        vertical-align: top;\n",
       "    }\n",
       "\n",
       "    .dataframe thead th {\n",
       "        text-align: right;\n",
       "    }\n",
       "</style>\n",
       "<table border=\"1\" class=\"dataframe\">\n",
       "  <thead>\n",
       "    <tr style=\"text-align: right;\">\n",
       "      <th></th>\n",
       "      <th>bedrooms</th>\n",
       "      <th>bathrooms</th>\n",
       "      <th>parkingSpaces</th>\n",
       "      <th>apartment</th>\n",
       "      <th>house</th>\n",
       "      <th>townhouse</th>\n",
       "      <th>unit</th>\n",
       "    </tr>\n",
       "  </thead>\n",
       "  <tbody>\n",
       "    <tr>\n",
       "      <td>0</td>\n",
       "      <td>2</td>\n",
       "      <td>1</td>\n",
       "      <td>1</td>\n",
       "      <td>1</td>\n",
       "      <td>0</td>\n",
       "      <td>0</td>\n",
       "      <td>0</td>\n",
       "    </tr>\n",
       "    <tr>\n",
       "      <td>1</td>\n",
       "      <td>2</td>\n",
       "      <td>2</td>\n",
       "      <td>1</td>\n",
       "      <td>1</td>\n",
       "      <td>0</td>\n",
       "      <td>0</td>\n",
       "      <td>0</td>\n",
       "    </tr>\n",
       "    <tr>\n",
       "      <td>2</td>\n",
       "      <td>2</td>\n",
       "      <td>1</td>\n",
       "      <td>2</td>\n",
       "      <td>1</td>\n",
       "      <td>0</td>\n",
       "      <td>0</td>\n",
       "      <td>0</td>\n",
       "    </tr>\n",
       "  </tbody>\n",
       "</table>\n",
       "</div>"
      ],
      "text/plain": [
       "   bedrooms  bathrooms  parkingSpaces  apartment  house  townhouse  unit\n",
       "0         2          1              1          1      0          0     0\n",
       "1         2          2              1          1      0          0     0\n",
       "2         2          1              2          1      0          0     0"
      ]
     },
     "execution_count": 48,
     "metadata": {},
     "output_type": "execute_result"
    }
   ],
   "source": [
    "X = df11.drop(['price'],axis='columns')\n",
    "X.head(3)"
   ]
  },
  {
   "cell_type": "code",
   "execution_count": 49,
   "metadata": {},
   "outputs": [
    {
     "data": {
      "text/plain": [
       "0    610000.0\n",
       "1    630000.0\n",
       "2    620000.0\n",
       "Name: price, dtype: float64"
      ]
     },
     "execution_count": 49,
     "metadata": {},
     "output_type": "execute_result"
    }
   ],
   "source": [
    "Y = df11[\"price\"]\n",
    "Y.head(3)"
   ]
  },
  {
   "cell_type": "code",
   "execution_count": 50,
   "metadata": {},
   "outputs": [],
   "source": [
    "from sklearn.model_selection import train_test_split\n",
    "from sklearn.linear_model import LinearRegression\n",
    "from sklearn.tree import DecisionTreeRegressor\n",
    "from sklearn.neighbors import KNeighborsRegressor\n",
    "from sklearn.linear_model import LogisticRegression\n",
    "from sklearn import metrics\n",
    "from sklearn.metrics import mean_squared_error\n",
    "import seaborn as sns\n",
    "X_train, X_test, y_train, y_test = train_test_split(X,Y,test_size=0.2, random_state=1)"
   ]
  },
  {
   "cell_type": "code",
   "execution_count": 51,
   "metadata": {},
   "outputs": [
    {
     "data": {
      "text/plain": [
       "((41779, 7), (10445, 7), (41779,), (10445,))"
      ]
     },
     "execution_count": 51,
     "metadata": {},
     "output_type": "execute_result"
    }
   ],
   "source": [
    "np.expand_dims(X_train, axis=0)\n",
    "np.expand_dims(y_train, axis=0)\n",
    "\n",
    "X_train.shape, X_test.shape, y_train.shape, y_test.shape\n"
   ]
  },
  {
   "cell_type": "code",
   "execution_count": 53,
   "metadata": {},
   "outputs": [
    {
     "name": "stdout",
     "output_type": "stream",
     "text": [
      "The model performance for training set\n",
      "--------------------------------------\n",
      "RMSE is 16620.1511794283\n",
      "R2 score is 0.89\n",
      "\n",
      "\n"
     ]
    }
   ],
   "source": [
    "reg = LinearRegression()\n",
    "reg.fit(X_train, y_train)\n",
    "\n",
    "y_train_predict = reg.predict(X_train)\n",
    "rmse = (np.sqrt(mean_squared_error(y_train, y_train_predict)))\n",
    "r2 = round(reg.score(X_train, y_train),2)\n",
    "\n",
    "print(\"The model performance for training set\")\n",
    "print(\"--------------------------------------\")\n",
    "print('RMSE is {}'.format(rmse))\n",
    "print('R2 score is {}'.format(r2))\n",
    "print(\"\\n\")\n"
   ]
  },
  {
   "cell_type": "code",
   "execution_count": 54,
   "metadata": {},
   "outputs": [
    {
     "name": "stdout",
     "output_type": "stream",
     "text": [
      "The model performance for test set\n",
      "--------------------------------------\n",
      "Root Mean Squared Error: 15878.603058304521\n",
      "R^2: 0.9\n",
      "\n",
      "\n"
     ]
    }
   ],
   "source": [
    "y_pred = reg.predict(X_test)\n",
    "rmse = (np.sqrt(mean_squared_error(y_test, y_pred)))\n",
    "r2 = round(reg.score(X_test, y_test),2)\n",
    "\n",
    "print(\"The model performance for test set\")\n",
    "print(\"--------------------------------------\")\n",
    "print(\"Root Mean Squared Error: {}\".format(rmse))\n",
    "print(\"R^2: {}\".format(r2))\n",
    "print(\"\\n\")"
   ]
  },
  {
   "cell_type": "code",
   "execution_count": 55,
   "metadata": {},
   "outputs": [
    {
     "data": {
      "text/plain": [
       "Text(0.5, 0, 'Predicted price')"
      ]
     },
     "execution_count": 55,
     "metadata": {},
     "output_type": "execute_result"
    },
    {
     "data": {
      "image/png": "[encoded data removed]",
      "text/plain": [
       "<Figure size 1080x432 with 2 Axes>"
      ]
     },
     "metadata": {
      "needs_background": "light"
     },
     "output_type": "display_data"
    }
   ],
   "source": [
    "plt.figure(figsize=(15,6))\n",
    "plt.subplot(1,2,1)\n",
    "sns.distplot(df11[\"price\"], bins=50, color='green')\n",
    "plt.xlabel('Origin price')\n",
    "plt.subplot(1,2,2)\n",
    "sns.distplot(y_pred, bins=50, color='red')\n",
    "plt.xlabel('Predicted price')"
   ]
  },
  {
   "cell_type": "code",
   "execution_count": 56,
   "metadata": {},
   "outputs": [
    {
     "data": {
      "text/plain": [
       "<seaborn.axisgrid.PairGrid at 0x236d706de88>"
      ]
     },
     "execution_count": 56,
     "metadata": {},
     "output_type": "execute_result"
    },
    {
     "data": {
      "image/png": "[encoded data removed]",
      "text/plain": [
       "<Figure size 1728x720 with 3 Axes>"
      ]
     },
     "metadata": {
      "needs_background": "light"
     },
     "output_type": "display_data"
    }
   ],
   "source": [
    "sns.pairplot(df10, x_vars=['bedrooms', 'bathrooms','parkingSpaces'], y_vars='price', height=10, aspect=0.8,kind='reg')\n"
   ]
  },
  {
   "cell_type": "code",
   "execution_count": 57,
   "metadata": {},
   "outputs": [
    {
     "data": {
      "text/plain": [
       "7582873013668046.0"
      ]
     },
     "execution_count": 57,
     "metadata": {},
     "output_type": "execute_result"
    }
   ],
   "source": [
    "reg.intercept_"
   ]
  },
  {
   "cell_type": "code",
   "execution_count": 58,
   "metadata": {},
   "outputs": [
    {
     "data": {
      "text/plain": [
       "array([ 1.00489425e+05, -4.19343140e+04,  7.84848212e+04, -7.58287301e+15,\n",
       "       -7.58287301e+15, -7.58287301e+15, -7.58287301e+15])"
      ]
     },
     "execution_count": 58,
     "metadata": {},
     "output_type": "execute_result"
    }
   ],
   "source": [
    "reg.coef_"
   ]
  },
  {
   "cell_type": "code",
   "execution_count": 59,
   "metadata": {},
   "outputs": [],
   "source": [
    "def predict_price(propertyType,bedrooms,bathrooms,parkingSpaces):    \n",
    "    loc_index = np.where(X.columns==propertyType)[0][0]\n",
    "\n",
    "    x = np.zeros(len(X.columns))\n",
    "    x[0] = bedrooms\n",
    "    x[1] = bathrooms\n",
    "    x[2] = parkingSpaces\n",
    "    if loc_index >= 0:\n",
    "        x[loc_index] = 1\n",
    "    print(\"Estimated price in dollars:\")\n",
    "    return reg.predict([x])[0]"
   ]
  },
  {
   "cell_type": "code",
   "execution_count": 60,
   "metadata": {},
   "outputs": [
    {
     "name": "stdout",
     "output_type": "stream",
     "text": [
      "Estimated price in dollars:\n"
     ]
    },
    {
     "data": {
      "text/plain": [
       "593386.0"
      ]
     },
     "execution_count": 60,
     "metadata": {},
     "output_type": "execute_result"
    }
   ],
   "source": [
    "predict_price('unit',4, 2, 2)"
   ]
  },
  {
   "cell_type": "code",
   "execution_count": 61,
   "metadata": {},
   "outputs": [
    {
     "name": "stdout",
     "output_type": "stream",
     "text": [
      "Estimated price in dollars:\n"
     ]
    },
    {
     "data": {
      "text/plain": [
       "610496.0"
      ]
     },
     "execution_count": 61,
     "metadata": {},
     "output_type": "execute_result"
    }
   ],
   "source": [
    "predict_price('house','5','5','4')"
   ]
  },
  {
   "cell_type": "code",
   "execution_count": 62,
   "metadata": {},
   "outputs": [
    {
     "name": "stdout",
     "output_type": "stream",
     "text": [
      "Estimated price in dollars:\n"
     ]
    },
    {
     "data": {
      "text/plain": [
       "355857.0"
      ]
     },
     "execution_count": 62,
     "metadata": {},
     "output_type": "execute_result"
    }
   ],
   "source": [
    "predict_price('unit','2','1','1')"
   ]
  },
  {
   "cell_type": "code",
   "execution_count": 63,
   "metadata": {},
   "outputs": [
    {
     "name": "stdout",
     "output_type": "stream",
     "text": [
      "The model performance for training set\n",
      "--------------------------------------\n",
      "RMSE is 15107.601184276078\n",
      "R2 score is 0.91\n",
      "\n",
      "\n"
     ]
    }
   ],
   "source": [
    "dt_model = DecisionTreeRegressor()\n",
    "dt_model.fit(X_train, y_train)\n",
    "\n",
    "y_train_predict = dt_model.predict(X_train)\n",
    "rmse = (np.sqrt(mean_squared_error(y_train, y_train_predict)))\n",
    "r2 = round(dt_model.score(X_train, y_train),2)\n",
    "\n",
    "print(\"The model performance for training set\")\n",
    "print(\"--------------------------------------\")\n",
    "print('RMSE is {}'.format(rmse))\n",
    "print('R2 score is {}'.format(r2))\n",
    "print(\"\\n\")\n"
   ]
  },
  {
   "cell_type": "code",
   "execution_count": 64,
   "metadata": {},
   "outputs": [
    {
     "name": "stdout",
     "output_type": "stream",
     "text": [
      "The model performance for test set\n",
      "--------------------------------------\n",
      "Root Mean Squared Error: 14709.135632699868\n",
      "R^2: 0.91\n",
      "\n",
      "\n"
     ]
    }
   ],
   "source": [
    "y_pred = dt_model.predict(X_test)\n",
    "rmse = (np.sqrt(mean_squared_error(y_test, y_pred)))\n",
    "r2 = round(dt_model.score(X_test, y_test),2)\n",
    "\n",
    "print(\"The model performance for test set\")\n",
    "print(\"--------------------------------------\")\n",
    "print(\"Root Mean Squared Error: {}\".format(rmse))\n",
    "print(\"R^2: {}\".format(r2))\n",
    "print(\"\\n\")"
   ]
  },
  {
   "cell_type": "code",
   "execution_count": 65,
   "metadata": {},
   "outputs": [
    {
     "data": {
      "text/plain": [
       "Text(0.5, 0, 'Predicted price')"
      ]
     },
     "execution_count": 65,
     "metadata": {},
     "output_type": "execute_result"
    },
    {
     "data": {
      "image/png": "[encoded data removed]",
      "text/plain": [
       "<Figure size 1080x432 with 2 Axes>"
      ]
     },
     "metadata": {
      "needs_background": "light"
     },
     "output_type": "display_data"
    }
   ],
   "source": [
    "plt.figure(figsize=(15,6))\n",
    "plt.subplot(1,2,1)\n",
    "sns.distplot(df11[\"price\"], bins=50, color='green')\n",
    "plt.xlabel('Origin price')\n",
    "plt.subplot(1,2,2)\n",
    "sns.distplot(y_pred, bins=50, color='red')\n",
    "plt.xlabel('Predicted price')"
   ]
  },
  {
   "cell_type": "code",
   "execution_count": 66,
   "metadata": {},
   "outputs": [],
   "source": [
    "def predict_price_dt(propertyType,bedrooms,bathrooms,parkingSpaces):    \n",
    "    loc_index = np.where(X.columns==propertyType)[0][0]\n",
    "\n",
    "    x = np.zeros(len(X.columns))\n",
    "    x[0] = bedrooms\n",
    "    x[1] = bathrooms\n",
    "    x[2] = parkingSpaces\n",
    "    if loc_index >= 0:\n",
    "        x[loc_index] = 1\n",
    "    print(\"Estimated price in dollars:\")\n",
    "    return dt_model.predict([x])[0]"
   ]
  },
  {
   "cell_type": "code",
   "execution_count": 67,
   "metadata": {},
   "outputs": [
    {
     "name": "stdout",
     "output_type": "stream",
     "text": [
      "Estimated price in dollars:\n"
     ]
    },
    {
     "data": {
      "text/plain": [
       "640001.0"
      ]
     },
     "execution_count": 67,
     "metadata": {},
     "output_type": "execute_result"
    }
   ],
   "source": [
    "predict_price_dt('unit',4, 2, 2)"
   ]
  },
  {
   "cell_type": "code",
   "execution_count": 68,
   "metadata": {},
   "outputs": [
    {
     "name": "stdout",
     "output_type": "stream",
     "text": [
      "Estimated price in dollars:\n"
     ]
    },
    {
     "data": {
      "text/plain": [
       "356048.3870967742"
      ]
     },
     "execution_count": 68,
     "metadata": {},
     "output_type": "execute_result"
    }
   ],
   "source": [
    "predict_price_dt('unit',2, 1, 1)"
   ]
  },
  {
   "cell_type": "code",
   "execution_count": 69,
   "metadata": {},
   "outputs": [
    {
     "data": {
      "text/plain": [
       "[Text(885.6627906976745, 2065.6800000000003, 'X[0] <= 3.5\\nmse = 2491215554.615\\nsamples = 41779\\nvalue = 406029.303'),\n",
       " Text(476.8953488372093, 1848.2400000000002, 'X[5] <= 0.5\\nmse = 2194265981.912\\nsamples = 37582\\nvalue = 398699.477'),\n",
       " Text(437.9651162790698, 1630.8000000000002, 'X[0] <= 1.5\\nmse = 1937507455.864\\nsamples = 33379\\nvalue = 390978.841'),\n",
       " Text(272.51162790697674, 1413.3600000000001, 'X[2] <= 1.5\\nmse = 2926500.067\\nsamples = 4133\\nvalue = 354951.367'),\n",
       " Text(233.58139534883722, 1195.92, 'mse = 2196234.569\\nsamples = 4132\\nvalue = 354964.666'),\n",
       " Text(311.4418604651163, 1195.92, 'mse = 0.0\\nsamples = 1\\nvalue = 300000.0'),\n",
       " Text(603.4186046511628, 1413.3600000000001, 'X[3] <= 0.5\\nmse = 2001549262.527\\nsamples = 29246\\nvalue = 396070.189'),\n",
       " Text(389.3023255813954, 1195.92, 'X[2] <= 1.5\\nmse = 1269068248.705\\nsamples = 25122\\nvalue = 383888.912'),\n",
       " Text(194.6511627906977, 978.48, 'X[6] <= 0.5\\nmse = 85920101.202\\nsamples = 8357\\nvalue = 348134.737'),\n",
       " Text(155.72093023255815, 761.0400000000002, 'X[1] <= 1.5\\nmse = 45592272.472\\nsamples = 4203\\nvalue = 340313.348'),\n",
       " Text(77.86046511627907, 543.6000000000001, 'X[2] <= 0.5\\nmse = 36051564.908\\nsamples = 4197\\nvalue = 340226.114'),\n",
       " Text(38.93023255813954, 326.1600000000001, 'mse = 0.0\\nsamples = 1\\nvalue = 510000.0'),\n",
       " Text(116.79069767441861, 326.1600000000001, 'mse = 29189317.519\\nsamples = 4196\\nvalue = 340185.653'),\n",
       " Text(233.58139534883722, 543.6000000000001, 'X[0] <= 2.5\\nmse = 2990555555.556\\nsamples = 6\\nvalue = 401333.333'),\n",
       " Text(194.6511627906977, 326.1600000000001, 'mse = 0.0\\nsamples = 1\\nvalue = 330000.0'),\n",
       " Text(272.51162790697674, 326.1600000000001, 'X[2] <= 0.5\\nmse = 2367440000.0\\nsamples = 5\\nvalue = 415600.0'),\n",
       " Text(233.58139534883722, 108.72000000000025, 'mse = 0.0\\nsamples = 1\\nvalue = 380000.0'),\n",
       " Text(311.4418604651163, 108.72000000000025, 'mse = 2563250000.0\\nsamples = 4\\nvalue = 424500.0'),\n",
       " Text(233.58139534883722, 761.0400000000002, 'mse = 2202040.008\\nsamples = 4154\\nvalue = 356048.387'),\n",
       " Text(583.953488372093, 978.48, 'X[1] <= 1.5\\nmse = 903957846.716\\nsamples = 16765\\nvalue = 401711.616'),\n",
       " Text(506.093023255814, 761.0400000000002, 'X[2] <= 5.0\\nmse = 984000122.356\\nsamples = 8383\\nvalue = 421309.734'),\n",
       " Text(467.16279069767444, 543.6000000000001, 'X[2] <= 3.5\\nmse = 983228676.544\\nsamples = 8382\\nvalue = 421320.031'),\n",
       " Text(428.2325581395349, 326.1600000000001, 'X[2] <= 2.5\\nmse = 981857637.888\\nsamples = 8381\\nvalue = 421306.706'),\n",
       " Text(389.3023255813954, 108.72000000000025, 'mse = 981420210.765\\nsamples = 8379\\nvalue = 421317.997'),\n",
       " Text(467.16279069767444, 108.72000000000025, 'mse = 576000000.0\\nsamples = 2\\nvalue = 374000.0'),\n",
       " Text(506.093023255814, 326.1600000000001, 'mse = 0.0\\nsamples = 1\\nvalue = 533000.0'),\n",
       " Text(545.0232558139535, 543.6000000000001, 'mse = 0.0\\nsamples = 1\\nvalue = 335000.0'),\n",
       " Text(661.8139534883721, 761.0400000000002, 'X[6] <= 0.5\\nmse = 55596127.226\\nsamples = 8382\\nvalue = 382111.161'),\n",
       " Text(622.8837209302326, 543.6000000000001, 'X[2] <= 2.5\\nmse = 52627953.516\\nsamples = 8381\\nvalue = 382092.322'),\n",
       " Text(583.953488372093, 326.1600000000001, 'mse = 48155960.461\\nsamples = 8377\\nvalue = 382069.118'),\n",
       " Text(661.8139534883721, 326.1600000000001, 'X[2] <= 3.5\\nmse = 7055480468.75\\nsamples = 4\\nvalue = 430687.5'),\n",
       " Text(622.8837209302326, 108.72000000000025, 'mse = 7504166666.667\\nsamples = 3\\nvalue = 452500.0'),\n",
       " Text(700.7441860465117, 108.72000000000025, 'mse = 0.0\\nsamples = 1\\nvalue = 365250.0'),\n",
       " Text(700.7441860465117, 543.6000000000001, 'mse = 0.0\\nsamples = 1\\nvalue = 540000.0'),\n",
       " Text(817.5348837209302, 1195.92, 'X[1] <= 1.5\\nmse = 53411445.408\\nsamples = 4124\\nvalue = 470274.37'),\n",
       " Text(778.6046511627908, 978.48, 'X[2] <= 1.5\\nmse = 10457672.495\\nsamples = 4120\\nvalue = 470083.01'),\n",
       " Text(739.6744186046512, 761.0400000000002, 'mse = 5002439.974\\nsamples = 4119\\nvalue = 470046.613'),\n",
       " Text(817.5348837209302, 761.0400000000002, 'mse = 0.0\\nsamples = 1\\nvalue = 620000.0'),\n",
       " Text(856.4651162790698, 978.48, 'mse = 5409421875.0\\nsamples = 4\\nvalue = 667375.0'),\n",
       " Text(515.8255813953489, 1630.8000000000002, 'mse = 442568.327\\nsamples = 4203\\nvalue = 460014.513'),\n",
       " Text(1294.4302325581396, 1848.2400000000002, 'X[0] <= 4.5\\nmse = 361220687.889\\nsamples = 4197\\nvalue = 471664.165'),\n",
       " Text(1109.5116279069769, 1630.8000000000002, 'X[2] <= 2.5\\nmse = 195463333.539\\nsamples = 4190\\nvalue = 471182.936'),\n",
       " Text(973.2558139534884, 1413.3600000000001, 'X[4] <= 0.5\\nmse = 165115709.184\\nsamples = 4180\\nvalue = 470963.158'),\n",
       " Text(934.3255813953489, 1195.92, 'mse = 0.0\\nsamples = 1\\nvalue = 640001.0'),\n",
       " Text(1012.186046511628, 1195.92, 'X[1] <= 1.5\\nmse = 158316112.691\\nsamples = 4179\\nvalue = 470922.709'),\n",
       " Text(934.3255813953489, 978.48, 'X[2] <= 1.0\\nmse = 7098062500.0\\nsamples = 2\\nvalue = 550750.0'),\n",
       " Text(895.3953488372093, 761.0400000000002, 'mse = 0.0\\nsamples = 1\\nvalue = 466500.0'),\n",
       " Text(973.2558139534884, 761.0400000000002, 'mse = 0.0\\nsamples = 1\\nvalue = 635000.0'),\n",
       " Text(1090.046511627907, 978.48, 'X[2] <= 1.5\\nmse = 151940630.769\\nsamples = 4177\\nvalue = 470884.486'),\n",
       " Text(1051.1162790697674, 761.0400000000002, 'mse = 2650888888.889\\nsamples = 3\\nvalue = 517333.333'),\n",
       " Text(1128.9767441860465, 761.0400000000002, 'mse = 148592767.113\\nsamples = 4174\\nvalue = 470851.102'),\n",
       " Text(1245.7674418604652, 1413.3600000000001, 'X[1] <= 1.5\\nmse = 4421022500.0\\nsamples = 10\\nvalue = 563050.0'),\n",
       " Text(1206.8372093023256, 1195.92, 'mse = 0.0\\nsamples = 1\\nvalue = 640000.0'),\n",
       " Text(1284.6976744186047, 1195.92, 'X[1] <= 2.5\\nmse = 4181222222.222\\nsamples = 9\\nvalue = 554500.0'),\n",
       " Text(1245.7674418604652, 978.48, 'X[2] <= 3.5\\nmse = 3954484375.0\\nsamples = 8\\nvalue = 545375.0'),\n",
       " Text(1206.8372093023256, 761.0400000000002, 'mse = 1597555555.556\\nsamples = 3\\nvalue = 504333.333'),\n",
       " Text(1284.6976744186047, 761.0400000000002, 'X[2] <= 5.0\\nmse = 3751600000.0\\nsamples = 5\\nvalue = 570000.0'),\n",
       " Text(1245.7674418604652, 543.6000000000001, 'mse = 2252666666.667\\nsamples = 3\\nvalue = 580000.0'),\n",
       " Text(1323.6279069767443, 543.6000000000001, 'mse = 5625000000.0\\nsamples = 2\\nvalue = 555000.0'),\n",
       " Text(1323.6279069767443, 978.48, 'mse = 0.0\\nsamples = 1\\nvalue = 627500.0'),\n",
       " Text(1479.3488372093025, 1630.8000000000002, 'X[2] <= 1.0\\nmse = 16467346938.776\\nsamples = 7\\nvalue = 759714.286'),\n",
       " Text(1440.418604651163, 1413.3600000000001, 'mse = 0.0\\nsamples = 1\\nvalue = 612000.0'),\n",
       " Text(1518.279069767442, 1413.3600000000001, 'X[2] <= 3.5\\nmse = 14969222222.222\\nsamples = 6\\nvalue = 784333.333'),\n",
       " Text(1440.418604651163, 1195.92, 'X[2] <= 2.5\\nmse = 13330687500.0\\nsamples = 4\\nvalue = 820250.0'),\n",
       " Text(1401.4883720930234, 978.48, 'X[1] <= 2.5\\nmse = 14947555555.556\\nsamples = 3\\nvalue = 793666.667'),\n",
       " Text(1362.5581395348838, 761.0400000000002, 'mse = 19600000000.0\\nsamples = 2\\nvalue = 763000.0'),\n",
       " Text(1440.418604651163, 761.0400000000002, 'mse = 0.0\\nsamples = 1\\nvalue = 855000.0'),\n",
       " Text(1479.3488372093025, 978.48, 'mse = 0.0\\nsamples = 1\\nvalue = 900000.0'),\n",
       " Text(1596.139534883721, 1195.92, 'X[1] <= 2.5\\nmse = 10506250000.0\\nsamples = 2\\nvalue = 712500.0'),\n",
       " Text(1557.2093023255816, 978.48, 'mse = 0.0\\nsamples = 1\\nvalue = 610000.0'),\n",
       " Text(1635.0697674418604, 978.48, 'mse = 0.0\\nsamples = 1\\nvalue = 815000.0')]"
      ]
     },
     "execution_count": 69,
     "metadata": {},
     "output_type": "execute_result"
    },
    {
     "data": {
      "image/png": "[encoded data removed]",
      "text/plain": [
       "<Figure size 2160x2880 with 1 Axes>"
      ]
     },
     "metadata": {
      "needs_background": "light"
     },
     "output_type": "display_data"
    }
   ],
   "source": [
    "from sklearn import tree\n",
    "matplotlib.rcParams[\"figure.figsize\"] = (30,40)\n",
    "tree.plot_tree(dt_model)"
   ]
  },
  {
   "cell_type": "code",
   "execution_count": 71,
   "metadata": {},
   "outputs": [
    {
     "data": {
      "image/png": "[encoded data removed]",
      "text/plain": [
       "<Figure size 720x360 with 1 Axes>"
      ]
     },
     "metadata": {
      "needs_background": "light"
     },
     "output_type": "display_data"
    },
    {
     "name": "stdout",
     "output_type": "stream",
     "text": [
      "['Linear Regression', 'Decision Tree']\n",
      "[0.8982777432937485, 0.9127097560152067]\n"
     ]
    }
   ],
   "source": [
    "import matplotlib\n",
    "matplotlib.rcParams[\"figure.figsize\"] = (10,5)\n",
    "dt=dt_model.score(X_test,y_test)\n",
    "lr=reg.score(X_test,y_test)\n",
    "y=[lr,dt]\n",
    "x=[\"Linear Regression\", \"Decision Tree\"]\n",
    "plt.bar(x,y)\n",
    "plt.xlabel(\"Model\")\n",
    "plt.ylabel(\"Accuracy\")\n",
    "plt.title(\"Accuracy comparison\")\n",
    "plt.show()\n",
    "print(x)\n",
    "print(y)"
   ]
  },
  {
   "cell_type": "code",
   "execution_count": null,
   "metadata": {},
   "outputs": [],
   "source": []
  }
 ],
 "metadata": {
  "kernelspec": {
   "display_name": "Python 3",
   "language": "python",
   "name": "python3"
  },
  "language_info": {
   "codemirror_mode": {
    "name": "ipython",
    "version": 3
   },
   "file_extension": ".py",
   "mimetype": "text/x-python",
   "name": "python",
   "nbconvert_exporter": "python",
   "pygments_lexer": "ipython3",
   "version": "3.8.8"
  }
 },
 "nbformat": 4,
 "nbformat_minor": 2
}
